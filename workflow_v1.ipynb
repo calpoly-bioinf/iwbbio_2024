{
 "cells": [
  {
   "cell_type": "code",
   "execution_count": 1,
   "id": "136f7f4e-51f4-45eb-993a-9b0851f1a7a9",
   "metadata": {},
   "outputs": [],
   "source": [
    "%load_ext autoreload\n",
    "%autoreload 2"
   ]
  },
  {
   "cell_type": "code",
   "execution_count": 2,
   "id": "3b18bc91-8e26-41b2-98f4-1b83624694c1",
   "metadata": {},
   "outputs": [],
   "source": [
    "import glob\n",
    "import json\n",
    "import os"
   ]
  },
  {
   "cell_type": "code",
   "execution_count": 3,
   "id": "3e79df82-53db-4eed-9b77-e220c9fd3797",
   "metadata": {},
   "outputs": [
    {
     "name": "stderr",
     "output_type": "stream",
     "text": [
      "[nltk_data] Downloading package omw-1.4 to /home/myuser/nltk_data...\n",
      "[nltk_data]   Package omw-1.4 is already up-to-date!\n"
     ]
    }
   ],
   "source": [
    "import kg_generation"
   ]
  },
  {
   "cell_type": "markdown",
   "id": "51d6886b-3b78-4a3f-9b5b-7b391fe3c028",
   "metadata": {},
   "source": [
    "## Setup"
   ]
  },
  {
   "cell_type": "code",
   "execution_count": 4,
   "id": "0415eae4-e4b8-4f8d-ae1f-c3559441759b",
   "metadata": {},
   "outputs": [
    {
     "name": "stdout",
     "output_type": "stream",
     "text": [
      "mkdir: cannot create directory ‘/mnt/clbp/lit_searches/hypotheses/reports’: File exists\n"
     ]
    }
   ],
   "source": [
    "SRC_DIR=\"/mnt/clbp/lit_searches/hypotheses\"\n",
    "DIRS = [\"h1\",\"h2\",\"h4\",\"h5\"]\n",
    "REPORT_DIR=f\"{SRC_DIR}/reports\"\n",
    "!mkdir {REPORT_DIR}"
   ]
  },
  {
   "cell_type": "markdown",
   "id": "4415d8d3-dbc6-4700-88ba-fc9f1c808e8d",
   "metadata": {},
   "source": [
    "**Get coresolution function**"
   ]
  },
  {
   "cell_type": "code",
   "execution_count": 224,
   "id": "754b0a25-bed1-4113-b464-82c79ac57222",
   "metadata": {},
   "outputs": [],
   "source": [
    "raw_to_json_func = kg_generation.clean.get_raw_pdf_to_json_func2()\n",
    "resolv_func = kg_generation.clean.get_coref_func1()\n",
    "rewrite_func = kg_generation.clean.get_rewrite_func2()"
   ]
  },
  {
   "cell_type": "markdown",
   "id": "d8f9b7ba-fa15-4cc8-a4b5-cd90aebcdf1e",
   "metadata": {},
   "source": [
    "## PDF to Text to JSON"
   ]
  },
  {
   "cell_type": "code",
   "execution_count": 258,
   "id": "8a734628-dd20-45b2-a21b-206d65ee25a8",
   "metadata": {
    "scrolled": true
   },
   "outputs": [
    {
     "name": "stdout",
     "output_type": "stream",
     "text": [
      "h1\n",
      "/mnt/clbp/lit_searches/hypotheses/h1/hyp1_1.pdf\n",
      "438\n",
      "153\n",
      "/mnt/clbp/lit_searches/hypotheses/h1/hyp1_2.pdf\n",
      "19\n",
      "0\n",
      "/mnt/clbp/lit_searches/hypotheses/h1/hyp1_3.pdf\n",
      "248\n",
      "89\n",
      "/mnt/clbp/lit_searches/hypotheses/h1/hyp1_4.pdf\n",
      "306\n",
      "79\n",
      "/mnt/clbp/lit_searches/hypotheses/h1/hyp1_5.pdf\n",
      "228\n",
      "84\n",
      "/mnt/clbp/lit_searches/hypotheses/h1/hyp1_6.pdf\n",
      "271\n",
      "47\n",
      "/mnt/clbp/lit_searches/hypotheses/h1/hyp1_7.pdf\n",
      "341\n",
      "51\n",
      "/mnt/clbp/lit_searches/hypotheses/h1/hyp1_8.pdf\n",
      "337\n",
      "98\n",
      "/mnt/clbp/lit_searches/hypotheses/h1/hyp1_9.pdf\n",
      "228\n",
      "53\n",
      "/mnt/clbp/lit_searches/hypotheses/h1/hyp1_10.pdf\n",
      "254\n"
     ]
    },
    {
     "name": "stderr",
     "output_type": "stream",
     "text": [
      "warning: undefined link destination\n",
      "warning: freetype could not find any cmaps\n"
     ]
    },
    {
     "name": "stdout",
     "output_type": "stream",
     "text": [
      "98\n",
      "/mnt/clbp/lit_searches/hypotheses/h1/hyp1_11.pdf\n",
      "237\n"
     ]
    },
    {
     "name": "stderr",
     "output_type": "stream",
     "text": [
      "warning: freetype could not find any cmaps\n"
     ]
    },
    {
     "name": "stdout",
     "output_type": "stream",
     "text": [
      "68\n",
      "/mnt/clbp/lit_searches/hypotheses/h1/hyp1_13.pdf\n",
      "249\n",
      "65\n",
      "/mnt/clbp/lit_searches/hypotheses/h1/hyp1_14.pdf\n",
      "360\n",
      "65\n",
      "/mnt/clbp/lit_searches/hypotheses/h1/hyp1_17.pdf\n",
      "219\n",
      "69\n",
      "/mnt/clbp/lit_searches/hypotheses/h1/hyp1_18.pdf\n",
      "282\n",
      "85\n",
      "/mnt/clbp/lit_searches/hypotheses/h1/hyp1_19.pdf\n",
      "565\n",
      "71\n",
      "/mnt/clbp/lit_searches/hypotheses/h1/hyp1_21.pdf\n",
      "486\n",
      "71\n",
      "/mnt/clbp/lit_searches/hypotheses/h1/hyp1_22.pdf\n",
      "258\n",
      "54\n",
      "/mnt/clbp/lit_searches/hypotheses/h1/hyp1_23.pdf\n",
      "331\n",
      "95\n",
      "/mnt/clbp/lit_searches/hypotheses/h1/hyp1_24.pdf\n",
      "284\n",
      "48\n",
      "/mnt/clbp/lit_searches/hypotheses/h1/hyp1_27.pdf\n",
      "35\n",
      "14\n",
      "/mnt/clbp/lit_searches/hypotheses/h1/hyp1_25.pdf\n",
      "239\n",
      "89\n",
      "/mnt/clbp/lit_searches/hypotheses/h1/hyp1_39.pdf\n",
      "191\n",
      "60\n",
      "/mnt/clbp/lit_searches/hypotheses/h1/hyp1_28.pdf\n",
      "166\n",
      "40\n",
      "/mnt/clbp/lit_searches/hypotheses/h1/hyp1_46.pdf\n",
      "360\n",
      "69\n",
      "/mnt/clbp/lit_searches/hypotheses/h1/hyp1_29.pdf\n",
      "70\n"
     ]
    },
    {
     "name": "stderr",
     "output_type": "stream",
     "text": [
      "warning: undefined link destination\n",
      "warning: ... repeated 8 times...\n"
     ]
    },
    {
     "name": "stdout",
     "output_type": "stream",
     "text": [
      "12\n",
      "/mnt/clbp/lit_searches/hypotheses/h1/hyp1_43.pdf\n",
      "266\n",
      "80\n",
      "/mnt/clbp/lit_searches/hypotheses/h1/hyp1_34.pdf\n",
      "329\n",
      "62\n",
      "/mnt/clbp/lit_searches/hypotheses/h1/hyp1_32.pdf\n",
      "178\n"
     ]
    },
    {
     "name": "stderr",
     "output_type": "stream",
     "text": [
      "warning: freetype could not find any cmaps\n",
      "warning: ... repeated 2 times...\n"
     ]
    },
    {
     "name": "stdout",
     "output_type": "stream",
     "text": [
      "73\n",
      "/mnt/clbp/lit_searches/hypotheses/h1/hyp1_47.pdf\n",
      "293\n",
      "105\n",
      "/mnt/clbp/lit_searches/hypotheses/h1/hyp1_41.pdf\n",
      "239\n",
      "103\n",
      "/mnt/clbp/lit_searches/hypotheses/h1/hyp1_37.pdf\n",
      "379\n",
      "66\n",
      "/mnt/clbp/lit_searches/hypotheses/h1/hyp1_33.pdf\n",
      "606\n",
      "245\n",
      "/mnt/clbp/lit_searches/hypotheses/h1/hyp1_30.pdf\n",
      "278\n",
      "52\n",
      "/mnt/clbp/lit_searches/hypotheses/h1/hyp1_45.pdf\n",
      "427\n",
      "77\n",
      "/mnt/clbp/lit_searches/hypotheses/h1/hyp1_36.pdf\n",
      "362\n",
      "89\n",
      "/mnt/clbp/lit_searches/hypotheses/h1/hyp1_26.pdf\n",
      "352\n",
      "60\n",
      "/mnt/clbp/lit_searches/hypotheses/h1/hyp1_38.pdf\n",
      "393\n",
      "49\n",
      "/mnt/clbp/lit_searches/hypotheses/h1/hyp1_40.pdf\n",
      "456\n",
      "62\n",
      "/mnt/clbp/lit_searches/hypotheses/h1/hyp1_44.pdf\n",
      "8779\n",
      "390\n",
      "/mnt/clbp/lit_searches/hypotheses/h1/chs_1.pdf\n",
      "328\n",
      "81\n",
      "h2\n",
      "/mnt/clbp/lit_searches/hypotheses/h2/hyp2_1.pdf\n",
      "386\n"
     ]
    },
    {
     "name": "stderr",
     "output_type": "stream",
     "text": [
      "warning: undefined link destination\n",
      "warning: ... repeated 3 times...\n"
     ]
    },
    {
     "name": "stdout",
     "output_type": "stream",
     "text": [
      "50\n",
      "/mnt/clbp/lit_searches/hypotheses/h2/hyp2_2.pdf\n",
      "275\n",
      "46\n",
      "/mnt/clbp/lit_searches/hypotheses/h2/hyp2_4.pdf\n",
      "62\n",
      "23\n",
      "/mnt/clbp/lit_searches/hypotheses/h2/hyp2_5.pdf\n",
      "71\n",
      "22\n",
      "/mnt/clbp/lit_searches/hypotheses/h2/hyp2_6.pdf\n",
      "249\n",
      "53\n",
      "/mnt/clbp/lit_searches/hypotheses/h2/hyp2_7.pdf\n",
      "195\n",
      "39\n",
      "/mnt/clbp/lit_searches/hypotheses/h2/hyp2_8.pdf\n",
      "206\n",
      "65\n",
      "/mnt/clbp/lit_searches/hypotheses/h2/hyp2_9.pdf\n",
      "176\n",
      "42\n",
      "/mnt/clbp/lit_searches/hypotheses/h2/hyp2_10.pdf\n",
      "93\n",
      "29\n",
      "/mnt/clbp/lit_searches/hypotheses/h2/hyp2_11.pdf\n",
      "302\n",
      "95\n",
      "/mnt/clbp/lit_searches/hypotheses/h2/hyp2_12.pdf\n",
      "107\n",
      "28\n",
      "/mnt/clbp/lit_searches/hypotheses/h2/hyp2_13.pdf\n",
      "219\n",
      "75\n",
      "/mnt/clbp/lit_searches/hypotheses/h2/hyp2_14.pdf\n",
      "209\n",
      "70\n",
      "/mnt/clbp/lit_searches/hypotheses/h2/hyp2_15.pdf\n",
      "423\n"
     ]
    },
    {
     "name": "stderr",
     "output_type": "stream",
     "text": [
      "warning: undefined link destination\n",
      "warning: ... repeated 4 times...\n"
     ]
    },
    {
     "name": "stdout",
     "output_type": "stream",
     "text": [
      "81\n",
      "/mnt/clbp/lit_searches/hypotheses/h2/hyp2_16.pdf\n",
      "301\n",
      "115\n",
      "/mnt/clbp/lit_searches/hypotheses/h2/hyp2_17.pdf\n",
      "140\n",
      "33\n",
      "/mnt/clbp/lit_searches/hypotheses/h2/hyp2_18.pdf\n",
      "248\n"
     ]
    },
    {
     "name": "stderr",
     "output_type": "stream",
     "text": [
      "warning: undefined link destination\n"
     ]
    },
    {
     "name": "stdout",
     "output_type": "stream",
     "text": [
      "54\n",
      "/mnt/clbp/lit_searches/hypotheses/h2/hyp2_19.pdf\n",
      "131\n",
      "57\n",
      "/mnt/clbp/lit_searches/hypotheses/h2/hyp2_20.pdf\n",
      "945\n",
      "79\n",
      "/mnt/clbp/lit_searches/hypotheses/h2/hyp2_21.pdf\n",
      "298\n",
      "55\n",
      "/mnt/clbp/lit_searches/hypotheses/h2/hyp2_22.pdf\n",
      "252\n",
      "54\n",
      "/mnt/clbp/lit_searches/hypotheses/h2/hyp2_23.pdf\n",
      "431\n",
      "54\n",
      "/mnt/clbp/lit_searches/hypotheses/h2/hyp2_24.pdf\n",
      "131\n",
      "51\n",
      "/mnt/clbp/lit_searches/hypotheses/h2/hyp2_25.pdf\n",
      "1861\n",
      "126\n",
      "/mnt/clbp/lit_searches/hypotheses/h2/hyp2_26.pdf\n",
      "157\n",
      "49\n",
      "/mnt/clbp/lit_searches/hypotheses/h2/hyp2_27.pdf\n",
      "170\n",
      "48\n",
      "/mnt/clbp/lit_searches/hypotheses/h2/hyp2_28.pdf\n",
      "393\n",
      "118\n",
      "/mnt/clbp/lit_searches/hypotheses/h2/hyp2_29.pdf\n",
      "367\n",
      "82\n",
      "/mnt/clbp/lit_searches/hypotheses/h2/hyp2_30.pdf\n",
      "175\n",
      "64\n",
      "/mnt/clbp/lit_searches/hypotheses/h2/hyp2_31.pdf\n",
      "148\n",
      "41\n",
      "/mnt/clbp/lit_searches/hypotheses/h2/hyp2_32.pdf\n",
      "156\n",
      "60\n",
      "/mnt/clbp/lit_searches/hypotheses/h2/hyp2_33.pdf\n",
      "188\n",
      "71\n",
      "/mnt/clbp/lit_searches/hypotheses/h2/hyp2_35.pdf\n",
      "316\n",
      "44\n",
      "/mnt/clbp/lit_searches/hypotheses/h2/hyp2_36.pdf\n",
      "131\n",
      "43\n",
      "/mnt/clbp/lit_searches/hypotheses/h2/hyp2_37.pdf\n",
      "91\n",
      "20\n",
      "/mnt/clbp/lit_searches/hypotheses/h2/hyp2_38.pdf\n",
      "172\n",
      "59\n",
      "/mnt/clbp/lit_searches/hypotheses/h2/hyp2_40.pdf\n",
      "234\n",
      "101\n",
      "/mnt/clbp/lit_searches/hypotheses/h2/hyp2_41.pdf\n",
      "189\n"
     ]
    },
    {
     "name": "stderr",
     "output_type": "stream",
     "text": [
      "warning: undefined link destination\n",
      "warning: ... repeated 58 times...\n"
     ]
    },
    {
     "name": "stdout",
     "output_type": "stream",
     "text": [
      "55\n",
      "/mnt/clbp/lit_searches/hypotheses/h2/hyp2_42.pdf\n",
      "438\n",
      "86\n",
      "/mnt/clbp/lit_searches/hypotheses/h2/hyp2_43.pdf\n",
      "215\n",
      "67\n",
      "/mnt/clbp/lit_searches/hypotheses/h2/hyp2_44.pdf\n",
      "626\n",
      "73\n",
      "/mnt/clbp/lit_searches/hypotheses/h2/hyp2_45.pdf\n",
      "313\n",
      "83\n",
      "/mnt/clbp/lit_searches/hypotheses/h2/hyp2_46.pdf\n",
      "267\n",
      "40\n",
      "/mnt/clbp/lit_searches/hypotheses/h2/hyp2_47.pdf\n",
      "225\n",
      "47\n",
      "/mnt/clbp/lit_searches/hypotheses/h2/hyp2_48.pdf\n",
      "72\n",
      "25\n",
      "/mnt/clbp/lit_searches/hypotheses/h2/hyp2_49.pdf\n",
      "161\n",
      "37\n",
      "/mnt/clbp/lit_searches/hypotheses/h2/hyp2_50.pdf\n",
      "1\n",
      "0\n",
      "/mnt/clbp/lit_searches/hypotheses/h2/hyp2_51.pdf\n",
      "189\n",
      "41\n",
      "/mnt/clbp/lit_searches/hypotheses/h2/hyp2_52.pdf\n",
      "4107\n",
      "1850\n",
      "/mnt/clbp/lit_searches/hypotheses/h2/hyp2_53.pdf\n",
      "138\n"
     ]
    },
    {
     "name": "stderr",
     "output_type": "stream",
     "text": [
      "warning: FT_Get_Advance(HiddenHorzOCR,116): invalid glyph index\n",
      "warning: FT_Get_Advance(HiddenHorzOCR,108): invalid glyph index\n",
      "warning: FT_Get_Advance(HiddenHorzOCR,126): invalid glyph index\n",
      "warning: FT_Get_Advance(HiddenHorzOCR,97): invalid glyph index\n",
      "warning: FT_Get_Advance(HiddenHorzOCR,110): invalid glyph index\n",
      "warning: FT_Get_Advance(HiddenHorzOCR,32): invalid glyph index\n",
      "warning: FT_Get_Advance(HiddenHorzOCR,39): invalid glyph index\n",
      "warning: FT_Get_Advance(HiddenHorzOCR,79): invalid glyph index\n",
      "warning: FT_Get_Advance(HiddenHorzOCR,39): invalid glyph index\n",
      "warning: FT_Get_Advance(HiddenHorzOCR,126): invalid glyph index\n",
      "warning: ... repeated 4 times...\n",
      "warning: FT_Get_Advance(HiddenHorzOCR,32): invalid glyph index\n",
      "warning: FT_Get_Advance(HiddenHorzOCR,76): invalid glyph index\n",
      "warning: FT_Get_Advance(HiddenHorzOCR,126): invalid glyph index\n",
      "warning: ... repeated 2 times...\n",
      "warning: FT_Get_Advance(HiddenHorzOCR,32): invalid glyph index\n",
      "warning: FT_Get_Advance(HiddenHorzOCR,108): invalid glyph index\n",
      "warning: FT_Get_Advance(HiddenHorzOCR,126): invalid glyph index\n",
      "warning: FT_Get_Advance(HiddenHorzOCR,103): invalid glyph index\n",
      "warning: FT_Get_Advance(HiddenHorzOCR,32): invalid glyph index\n",
      "warning: FT_Get_Advance(HiddenHorzOCR,126): invalid glyph index\n",
      "warning: FT_Get_Advance(HiddenHorzOCR,32): invalid glyph index\n",
      "warning: FT_Get_Advance(HiddenHorzOCR,126): invalid glyph index\n",
      "warning: FT_Get_Advance(HiddenHorzOCR,32): invalid glyph index\n",
      "warning: FT_Get_Advance(HiddenHorzOCR,40): invalid glyph index\n",
      "warning: FT_Get_Advance(HiddenHorzOCR,97): invalid glyph index\n",
      "warning: FT_Get_Advance(HiddenHorzOCR,103): invalid glyph index\n",
      "warning: FT_Get_Advance(HiddenHorzOCR,126): invalid glyph index\n",
      "warning: FT_Get_Advance(HiddenHorzOCR,32): invalid glyph index\n",
      "warning: FT_Get_Advance(HiddenHorzOCR,95): invalid glyph index\n",
      "warning: FT_Get_Advance(HiddenHorzOCR,51): invalid glyph index\n",
      "warning: FT_Get_Advance(HiddenHorzOCR,76): invalid glyph index\n",
      "warning: FT_Get_Advance(HiddenHorzOCR,45): invalid glyph index\n",
      "warning: FT_Get_Advance(HiddenHorzOCR,126): invalid glyph index\n",
      "warning: FT_Get_Advance(HiddenHorzOCR,32): invalid glyph index\n",
      "warning: FT_Get_Advance(HiddenHorzOCR,126): invalid glyph index\n",
      "warning: FT_Get_Advance(HiddenHorzOCR,32): invalid glyph index\n",
      "warning: FT_Get_Advance(HiddenHorzOCR,126): invalid glyph index\n",
      "warning: FT_Get_Advance(HiddenHorzOCR,32): invalid glyph index\n",
      "warning: FT_Get_Advance(HiddenHorzOCR,126): invalid glyph index\n",
      "warning: ... repeated 2 times...\n",
      "warning: FT_Get_Advance(HiddenHorzOCR,32): invalid glyph index\n",
      "warning: FT_Get_Advance(HiddenHorzOCR,126): invalid glyph index\n",
      "warning: FT_Get_Advance(HiddenHorzOCR,32): invalid glyph index\n",
      "warning: FT_Get_Advance(HiddenHorzOCR,126): invalid glyph index\n",
      "warning: FT_Get_Advance(HiddenHorzOCR,32): invalid glyph index\n",
      "warning: FT_Get_Advance(HiddenHorzOCR,40): invalid glyph index\n",
      "warning: FT_Get_Advance(HiddenHorzOCR,126): invalid glyph index\n",
      "warning: FT_Get_Advance(HiddenHorzOCR,50): invalid glyph index\n",
      "warning: FT_Get_Advance(HiddenHorzOCR,52): invalid glyph index\n",
      "warning: FT_Get_Advance(HiddenHorzOCR,32): invalid glyph index\n",
      "warning: FT_Get_Advance(HiddenHorzOCR,97): invalid glyph index\n",
      "warning: FT_Get_Advance(HiddenHorzOCR,112): invalid glyph index\n",
      "warning: ... repeated 2 times...\n",
      "warning: FT_Get_Advance(HiddenHorzOCR,114): invalid glyph index\n",
      "warning: FT_Get_Advance(HiddenHorzOCR,111): invalid glyph index\n",
      "warning: FT_Get_Advance(HiddenHorzOCR,120): invalid glyph index\n",
      "warning: FT_Get_Advance(HiddenHorzOCR,105): invalid glyph index\n",
      "warning: FT_Get_Advance(HiddenHorzOCR,126): invalid glyph index\n",
      "warning: FT_Get_Advance(HiddenHorzOCR,32): invalid glyph index\n",
      "warning: FT_Get_Advance(HiddenHorzOCR,44): invalid glyph index\n",
      "warning: FT_Get_Advance(HiddenHorzOCR,45): invalid glyph index\n",
      "warning: FT_Get_Advance(HiddenHorzOCR,126): invalid glyph index\n",
      "warning: ... repeated 2 times...\n",
      "warning: FT_Get_Advance(HiddenHorzOCR,45): invalid glyph index\n",
      "warning: ... repeated 2 times...\n",
      "warning: FT_Get_Advance(HiddenHorzOCR,126): invalid glyph index\n",
      "warning: FT_Get_Advance(HiddenHorzOCR,45): invalid glyph index\n",
      "warning: ... repeated 2 times...\n",
      "warning: FT_Get_Advance(HiddenHorzOCR,126): invalid glyph index\n",
      "warning: FT_Get_Advance(HiddenHorzOCR,45): invalid glyph index\n",
      "warning: ... repeated 2 times...\n",
      "warning: FT_Get_Advance(HiddenHorzOCR,126): invalid glyph index\n",
      "warning: FT_Get_Advance(HiddenHorzOCR,45): invalid glyph index\n",
      "warning: ... repeated 2 times...\n",
      "warning: FT_Get_Advance(HiddenHorzOCR,44): invalid glyph index\n",
      "warning: FT_Get_Advance(HiddenHorzOCR,32): invalid glyph index\n",
      "warning: FT_Get_Advance(HiddenHorzOCR,95): invalid glyph index\n",
      "warning: FT_Get_Advance(HiddenHorzOCR,39): invalid glyph index\n",
      "warning: FT_Get_Advance(HiddenHorzOCR,45): invalid glyph index\n",
      "warning: ... repeated 2 times...\n",
      "warning: FT_Get_Advance(HiddenHorzOCR,126): invalid glyph index\n",
      "warning: ... repeated 3 times...\n",
      "warning: FT_Get_Advance(HiddenHorzOCR,45): invalid glyph index\n",
      "warning: ... repeated 4 times...\n",
      "warning: FT_Get_Advance(HiddenHorzOCR,44): invalid glyph index\n",
      "warning: FT_Get_Advance(HiddenHorzOCR,58): invalid glyph index\n",
      "warning: FT_Get_Advance(HiddenHorzOCR,34): invalid glyph index\n",
      "warning: FT_Get_Advance(HiddenHorzOCR,45): invalid glyph index\n",
      "warning: FT_Get_Advance(HiddenHorzOCR,126): invalid glyph index\n",
      "warning: FT_Get_Advance(HiddenHorzOCR,45): invalid glyph index\n",
      "warning: FT_Get_Advance(HiddenHorzOCR,58): invalid glyph index\n",
      "warning: ... repeated 2 times...\n",
      "warning: FT_Get_Advance(HiddenHorzOCR,45): invalid glyph index\n",
      "warning: FT_Get_Advance(HiddenHorzOCR,126): invalid glyph index\n",
      "warning: FT_Get_Advance(HiddenHorzOCR,45): invalid glyph index\n",
      "warning: ... repeated 2 times...\n",
      "warning: FT_Get_Advance(HiddenHorzOCR,39): invalid glyph index\n",
      "warning: FT_Get_Advance(HiddenHorzOCR,46): invalid glyph index\n",
      "warning: FT_Get_Advance(HiddenHorzOCR,32): invalid glyph index\n",
      "warning: FT_Get_Advance(HiddenHorzOCR,115): invalid glyph index\n",
      "warning: FT_Get_Advance(HiddenHorzOCR,105): invalid glyph index\n",
      "warning: FT_Get_Advance(HiddenHorzOCR,109): invalid glyph index\n",
      "warning: FT_Get_Advance(HiddenHorzOCR,117): invalid glyph index\n",
      "warning: FT_Get_Advance(HiddenHorzOCR,108): invalid glyph index\n",
      "warning: FT_Get_Advance(HiddenHorzOCR,97): invalid glyph index\n",
      "warning: FT_Get_Advance(HiddenHorzOCR,126): invalid glyph index\n",
      "warning: FT_Get_Advance(HiddenHorzOCR,32): invalid glyph index\n",
      "warning: FT_Get_Advance(HiddenHorzOCR,98): invalid glyph index\n",
      "warning: FT_Get_Advance(HiddenHorzOCR,101): invalid glyph index\n",
      "warning: FT_Get_Advance(HiddenHorzOCR,126): invalid glyph index\n",
      "warning: FT_Get_Advance(HiddenHorzOCR,32): invalid glyph index\n",
      "warning: FT_Get_Advance(HiddenHorzOCR,40): invalid glyph index\n",
      "warning: FT_Get_Advance(HiddenHorzOCR,126): invalid glyph index\n",
      "warning: FT_Get_Advance(HiddenHorzOCR,49): invalid glyph index\n",
      "warning: FT_Get_Advance(HiddenHorzOCR,48): invalid glyph index\n",
      "warning: FT_Get_Advance(HiddenHorzOCR,52): invalid glyph index\n",
      "warning: FT_Get_Advance(HiddenHorzOCR,41): invalid glyph index\n",
      "warning: FT_Get_Advance(HiddenHorzOCR,32): invalid glyph index\n",
      "warning: FT_Get_Advance(HiddenHorzOCR,49): invalid glyph index\n",
      "warning: FT_Get_Advance(HiddenHorzOCR,54): invalid glyph index\n",
      "warning: FT_Get_Advance(HiddenHorzOCR,126): invalid glyph index\n",
      "warning: FT_Get_Advance(HiddenHorzOCR,110): invalid glyph index\n",
      "warning: FT_Get_Advance(HiddenHorzOCR,126): invalid glyph index\n",
      "warning: FT_Get_Advance(HiddenHorzOCR,54): invalid glyph index\n",
      "warning: FT_Get_Advance(HiddenHorzOCR,52): invalid glyph index\n",
      "warning: FT_Get_Advance(HiddenHorzOCR,46): invalid glyph index\n",
      "warning: FT_Get_Advance(HiddenHorzOCR,32): invalid glyph index\n",
      "warning: FT_Get_Advance(HiddenHorzOCR,44): invalid glyph index\n",
      "warning: FT_Get_Advance(HiddenHorzOCR,45): invalid glyph index\n",
      "warning: ... repeated 7 times...\n",
      "warning: FT_Get_Advance(HiddenHorzOCR,126): invalid glyph index\n",
      "warning: FT_Get_Advance(HiddenHorzOCR,45): invalid glyph index\n",
      "warning: FT_Get_Advance(HiddenHorzOCR,95): invalid glyph index\n",
      "warning: FT_Get_Advance(HiddenHorzOCR,45): invalid glyph index\n",
      "warning: ... repeated 2 times...\n",
      "warning: FT_Get_Advance(HiddenHorzOCR,95): invalid glyph index\n",
      "warning: FT_Get_Advance(HiddenHorzOCR,45): invalid glyph index\n",
      "warning: FT_Get_Advance(HiddenHorzOCR,46): invalid glyph index\n",
      "warning: FT_Get_Advance(HiddenHorzOCR,44): invalid glyph index\n",
      "warning: FT_Get_Advance(HiddenHorzOCR,32): invalid glyph index\n",
      "warning: FT_Get_Advance(HiddenHorzOCR,73): invalid glyph index\n",
      "warning: FT_Get_Advance(HiddenHorzOCR,39): invalid glyph index\n",
      "warning: FT_Get_Advance(HiddenHorzOCR,45): invalid glyph index\n",
      "warning: ... repeated 11 times...\n",
      "warning: FT_Get_Advance(HiddenHorzOCR,58): invalid glyph index\n",
      "warning: FT_Get_Advance(HiddenHorzOCR,45): invalid glyph index\n",
      "warning: FT_Get_Advance(HiddenHorzOCR,39): invalid glyph index\n",
      "warning: FT_Get_Advance(HiddenHorzOCR,45): invalid glyph index\n",
      "warning: FT_Get_Advance(HiddenHorzOCR,58): invalid glyph index\n",
      "warning: FT_Get_Advance(HiddenHorzOCR,45): invalid glyph index\n",
      "warning: FT_Get_Advance(HiddenHorzOCR,95): invalid glyph index\n",
      "warning: FT_Get_Advance(HiddenHorzOCR,126): invalid glyph index\n",
      "warning: ... repeated 3 times...\n",
      "warning: FT_Get_Advance(HiddenHorzOCR,45): invalid glyph index\n",
      "warning: ... repeated 6 times...\n",
      "warning: FT_Get_Advance(HiddenHorzOCR,58): invalid glyph index\n",
      "warning: FT_Get_Advance(HiddenHorzOCR,45): invalid glyph index\n",
      "warning: FT_Get_Advance(HiddenHorzOCR,126): invalid glyph index\n",
      "warning: FT_Get_Advance(HiddenHorzOCR,95): invalid glyph index\n",
      "warning: FT_Get_Advance(HiddenHorzOCR,126): invalid glyph index\n",
      "warning: FT_Get_Advance(HiddenHorzOCR,45): invalid glyph index\n",
      "warning: ... repeated 3 times...\n",
      "warning: FT_Get_Advance(HiddenHorzOCR,46): invalid glyph index\n",
      "warning: FT_Get_Advance(HiddenHorzOCR,74): invalid glyph index\n",
      "warning: FT_Get_Advance(HiddenHorzOCR,32): invalid glyph index\n"
     ]
    },
    {
     "name": "stdout",
     "output_type": "stream",
     "text": [
      "30\n",
      "/mnt/clbp/lit_searches/hypotheses/h2/hyp2_54.pdf\n",
      "228\n",
      "34\n",
      "/mnt/clbp/lit_searches/hypotheses/h2/hyp2_55.pdf\n",
      "97\n",
      "36\n",
      "/mnt/clbp/lit_searches/hypotheses/h2/hyp2_56.pdf\n",
      "178\n",
      "46\n",
      "/mnt/clbp/lit_searches/hypotheses/h2/hyp2_57.pdf\n",
      "110\n",
      "42\n",
      "/mnt/clbp/lit_searches/hypotheses/h2/hyp2_58.pdf\n",
      "4993\n",
      "398\n",
      "/mnt/clbp/lit_searches/hypotheses/h2/hyp2_59.pdf\n",
      "290\n"
     ]
    },
    {
     "name": "stderr",
     "output_type": "stream",
     "text": [
      "error: cannot recognize version marker\n",
      "warning: trying to repair broken xref\n",
      "warning: repairing PDF document\n"
     ]
    },
    {
     "name": "stdout",
     "output_type": "stream",
     "text": [
      "111\n",
      "/mnt/clbp/lit_searches/hypotheses/h2/hyp2_60.pdf\n",
      "324\n",
      "64\n",
      "/mnt/clbp/lit_searches/hypotheses/h2/hyp2_61.pdf\n",
      "238\n",
      "50\n",
      "/mnt/clbp/lit_searches/hypotheses/h2/hyp2_62.pdf\n",
      "168\n",
      "37\n",
      "/mnt/clbp/lit_searches/hypotheses/h2/hyp2_63.pdf\n",
      "262\n",
      "95\n",
      "/mnt/clbp/lit_searches/hypotheses/h2/hyp2_64.pdf\n",
      "190\n"
     ]
    },
    {
     "name": "stderr",
     "output_type": "stream",
     "text": [
      "warning: freetype could not find any cmaps\n",
      "warning: ... repeated 2 times...\n"
     ]
    },
    {
     "name": "stdout",
     "output_type": "stream",
     "text": [
      "36\n",
      "/mnt/clbp/lit_searches/hypotheses/h2/hyp2_65.pdf\n",
      "132\n",
      "37\n",
      "/mnt/clbp/lit_searches/hypotheses/h2/hyp2_66.pdf\n",
      "193\n",
      "61\n",
      "/mnt/clbp/lit_searches/hypotheses/h2/hyp2_67.pdf\n",
      "192\n",
      "58\n",
      "/mnt/clbp/lit_searches/hypotheses/h2/hyp2_68.pdf\n",
      "250\n",
      "59\n",
      "/mnt/clbp/lit_searches/hypotheses/h2/hyp2_69.pdf\n",
      "296\n",
      "58\n",
      "/mnt/clbp/lit_searches/hypotheses/h2/hyp2_70.pdf\n",
      "145\n",
      "44\n",
      "/mnt/clbp/lit_searches/hypotheses/h2/hyp2_71.pdf\n",
      "115\n",
      "0\n",
      "/mnt/clbp/lit_searches/hypotheses/h2/hyp2_72.pdf\n",
      "381\n",
      "69\n",
      "/mnt/clbp/lit_searches/hypotheses/h2/hyp2_75.pdf\n",
      "194\n",
      "59\n",
      "/mnt/clbp/lit_searches/hypotheses/h2/hyp2_76.pdf\n",
      "1160\n",
      "147\n",
      "/mnt/clbp/lit_searches/hypotheses/h2/hyp2_77.pdf\n",
      "490\n",
      "117\n",
      "/mnt/clbp/lit_searches/hypotheses/h2/hyp2_78.pdf\n",
      "1812\n",
      "165\n",
      "/mnt/clbp/lit_searches/hypotheses/h2/hyp7_79.pdf\n",
      "202\n",
      "25\n",
      "h4\n",
      "/mnt/clbp/lit_searches/hypotheses/h4/hyp4_9.pdf\n",
      "90\n",
      "21\n",
      "/mnt/clbp/lit_searches/hypotheses/h4/hyp4_8.pdf\n",
      "898\n",
      "121\n",
      "/mnt/clbp/lit_searches/hypotheses/h4/hyp4_7.pdf\n",
      "330\n",
      "78\n",
      "/mnt/clbp/lit_searches/hypotheses/h4/hyp4_6.pdf\n",
      "273\n"
     ]
    },
    {
     "name": "stderr",
     "output_type": "stream",
     "text": [
      "warning: broken xref subsection, proceeding anyway.\n"
     ]
    },
    {
     "name": "stdout",
     "output_type": "stream",
     "text": [
      "53\n",
      "/mnt/clbp/lit_searches/hypotheses/h4/hyp4_5.pdf\n",
      "335\n",
      "101\n",
      "/mnt/clbp/lit_searches/hypotheses/h4/hyp4_3.pdf\n",
      "341\n"
     ]
    },
    {
     "name": "stderr",
     "output_type": "stream",
     "text": [
      "warning: undefined link destination\n",
      "warning: ... repeated 204 times...\n"
     ]
    },
    {
     "name": "stdout",
     "output_type": "stream",
     "text": [
      "79\n",
      "/mnt/clbp/lit_searches/hypotheses/h4/hyp4_23.pdf\n",
      "171\n"
     ]
    },
    {
     "name": "stderr",
     "output_type": "stream",
     "text": [
      "warning: freetype could not find any cmaps\n"
     ]
    },
    {
     "name": "stdout",
     "output_type": "stream",
     "text": [
      "41\n",
      "/mnt/clbp/lit_searches/hypotheses/h4/hyp4_22.pdf\n",
      "112\n",
      "18\n",
      "/mnt/clbp/lit_searches/hypotheses/h4/hyp4_21.pdf\n",
      "2027\n",
      "90\n",
      "/mnt/clbp/lit_searches/hypotheses/h4/hyp4_20.pdf\n",
      "111\n",
      "24\n",
      "/mnt/clbp/lit_searches/hypotheses/h4/hyp4_2.pdf\n",
      "563\n"
     ]
    },
    {
     "name": "stderr",
     "output_type": "stream",
     "text": [
      "warning: undefined link destination\n"
     ]
    },
    {
     "name": "stdout",
     "output_type": "stream",
     "text": [
      "92\n",
      "/mnt/clbp/lit_searches/hypotheses/h4/hyp4_19.pdf\n",
      "115\n",
      "0\n",
      "/mnt/clbp/lit_searches/hypotheses/h4/hyp4_18.pdf\n",
      "218\n",
      "64\n",
      "/mnt/clbp/lit_searches/hypotheses/h4/hyp4_17.pdf\n",
      "98\n",
      "19\n",
      "/mnt/clbp/lit_searches/hypotheses/h4/hyp4_15.pdf\n",
      "14\n",
      "0\n",
      "/mnt/clbp/lit_searches/hypotheses/h4/hyp4_14.pdf\n",
      "1282\n",
      "199\n",
      "/mnt/clbp/lit_searches/hypotheses/h4/hyp4_13.pdf\n",
      "139\n",
      "38\n",
      "/mnt/clbp/lit_searches/hypotheses/h4/hyp4_12.pdf\n",
      "223\n",
      "56\n",
      "/mnt/clbp/lit_searches/hypotheses/h4/hyp4_10.pdf\n",
      "155\n",
      "30\n",
      "/mnt/clbp/lit_searches/hypotheses/h4/hyp4_1.pdf\n",
      "154\n",
      "39\n",
      "/mnt/clbp/lit_searches/hypotheses/h4/chs_4.pdf\n",
      "124\n",
      "25\n",
      "h5\n",
      "/mnt/clbp/lit_searches/hypotheses/h5/h5.pdf\n",
      "154\n",
      "65\n",
      "/mnt/clbp/lit_searches/hypotheses/h5/hyp5_1.pdf\n",
      "358\n",
      "70\n",
      "/mnt/clbp/lit_searches/hypotheses/h5/hyp5_10.pdf\n",
      "352\n"
     ]
    },
    {
     "name": "stderr",
     "output_type": "stream",
     "text": [
      "warning: undefined link destination\n",
      "warning: ... repeated 10 times...\n",
      "warning: freetype could not find any cmaps\n",
      "warning: undefined link destination\n",
      "warning: ... repeated 187 times...\n"
     ]
    },
    {
     "name": "stdout",
     "output_type": "stream",
     "text": [
      "60\n",
      "/mnt/clbp/lit_searches/hypotheses/h5/hyp5_2.pdf\n",
      "220\n",
      "68\n",
      "/mnt/clbp/lit_searches/hypotheses/h5/hyp5_4.pdf\n",
      "102\n",
      "0\n",
      "/mnt/clbp/lit_searches/hypotheses/h5/hyp5_5.pdf\n",
      "611\n",
      "89\n",
      "/mnt/clbp/lit_searches/hypotheses/h5/hyp5_6.pdf\n",
      "279\n",
      "50\n",
      "/mnt/clbp/lit_searches/hypotheses/h5/hyp5_7.pdf\n",
      "241\n",
      "52\n",
      "/mnt/clbp/lit_searches/hypotheses/h5/hyp5_8.pdf\n",
      "295\n",
      "74\n",
      "/mnt/clbp/lit_searches/hypotheses/h5/hyp5_9.pdf\n",
      "360\n",
      "60\n",
      "/mnt/clbp/lit_searches/hypotheses/h5/hyp5_14.pdf\n",
      "83\n",
      "40\n",
      "/mnt/clbp/lit_searches/hypotheses/h5/hyp5_12.pdf\n",
      "80\n",
      "28\n",
      "/mnt/clbp/lit_searches/hypotheses/h5/hyp5_11.pdf\n",
      "395\n",
      "87\n",
      "/mnt/clbp/lit_searches/hypotheses/h5/hyp5_49.pdf\n",
      "207\n"
     ]
    },
    {
     "name": "stderr",
     "output_type": "stream",
     "text": [
      "warning: undefined link destination\n",
      "warning: ... repeated 2 times...\n"
     ]
    },
    {
     "name": "stdout",
     "output_type": "stream",
     "text": [
      "51\n",
      "/mnt/clbp/lit_searches/hypotheses/h5/hyp5_48.pdf\n",
      "290\n",
      "114\n",
      "/mnt/clbp/lit_searches/hypotheses/h5/hyp5_47.pdf\n",
      "350\n",
      "39\n",
      "/mnt/clbp/lit_searches/hypotheses/h5/hyp5_46.pdf\n",
      "145\n",
      "46\n",
      "/mnt/clbp/lit_searches/hypotheses/h5/hyp5_45.pdf\n",
      "117\n",
      "50\n",
      "/mnt/clbp/lit_searches/hypotheses/h5/hyp5_44.pdf\n",
      "4436\n",
      "875\n",
      "/mnt/clbp/lit_searches/hypotheses/h5/hyp5_43.pdf\n",
      "954\n"
     ]
    },
    {
     "name": "stderr",
     "output_type": "stream",
     "text": [
      "warning: freetype could not find any cmaps\n"
     ]
    },
    {
     "name": "stdout",
     "output_type": "stream",
     "text": [
      "95\n",
      "/mnt/clbp/lit_searches/hypotheses/h5/hyp5_42.pdf\n",
      "225\n",
      "90\n",
      "/mnt/clbp/lit_searches/hypotheses/h5/hyp5_41.pdf\n",
      "228\n",
      "86\n",
      "/mnt/clbp/lit_searches/hypotheses/h5/hyp5_40.pdf\n",
      "191\n",
      "80\n",
      "/mnt/clbp/lit_searches/hypotheses/h5/hyp5_39.pdf\n",
      "299\n",
      "90\n",
      "/mnt/clbp/lit_searches/hypotheses/h5/hyp5_38.pdf\n",
      "202\n",
      "66\n",
      "/mnt/clbp/lit_searches/hypotheses/h5/hyp5_37.pdf\n",
      "125\n",
      "38\n",
      "/mnt/clbp/lit_searches/hypotheses/h5/hyp5_36.pdf\n",
      "127\n",
      "27\n",
      "/mnt/clbp/lit_searches/hypotheses/h5/hyp5_35.pdf\n",
      "140\n",
      "60\n",
      "/mnt/clbp/lit_searches/hypotheses/h5/hyp5_34.pdf\n",
      "112\n",
      "46\n",
      "/mnt/clbp/lit_searches/hypotheses/h5/hyp5_33.pdf\n",
      "237\n",
      "63\n",
      "/mnt/clbp/lit_searches/hypotheses/h5/hyp5_32.pdf\n",
      "131\n",
      "53\n",
      "/mnt/clbp/lit_searches/hypotheses/h5/hyp5_31.pdf\n",
      "237\n",
      "80\n",
      "/mnt/clbp/lit_searches/hypotheses/h5/hyp5_30.pdf\n",
      "217\n",
      "80\n",
      "/mnt/clbp/lit_searches/hypotheses/h5/hyp5_3.pdf\n",
      "206\n",
      "45\n",
      "/mnt/clbp/lit_searches/hypotheses/h5/hyp5_29.pdf\n",
      "261\n",
      "75\n",
      "/mnt/clbp/lit_searches/hypotheses/h5/hyp5_28.pdf\n",
      "212\n",
      "96\n",
      "/mnt/clbp/lit_searches/hypotheses/h5/hyp5_27.pdf\n",
      "508\n",
      "45\n",
      "/mnt/clbp/lit_searches/hypotheses/h5/hyp5_26.pdf\n",
      "162\n",
      "65\n",
      "/mnt/clbp/lit_searches/hypotheses/h5/hyp5_25.pdf\n",
      "274\n",
      "54\n",
      "/mnt/clbp/lit_searches/hypotheses/h5/hyp5_24.pdf\n",
      "458\n",
      "106\n",
      "/mnt/clbp/lit_searches/hypotheses/h5/hyp5_23.pdf\n",
      "999\n"
     ]
    },
    {
     "name": "stderr",
     "output_type": "stream",
     "text": [
      "warning: freetype could not find any cmaps\n"
     ]
    },
    {
     "name": "stdout",
     "output_type": "stream",
     "text": [
      "211\n",
      "/mnt/clbp/lit_searches/hypotheses/h5/hyp5_22.pdf\n",
      "208\n",
      "71\n",
      "/mnt/clbp/lit_searches/hypotheses/h5/hyp5_21.pdf\n",
      "629\n",
      "110\n",
      "/mnt/clbp/lit_searches/hypotheses/h5/hyp5_20.pdf\n",
      "142\n",
      "29\n",
      "/mnt/clbp/lit_searches/hypotheses/h5/hyp5_19.pdf\n",
      "215\n"
     ]
    },
    {
     "name": "stderr",
     "output_type": "stream",
     "text": [
      "warning: undefined link destination\n",
      "warning: ... repeated 2 times...\n"
     ]
    },
    {
     "name": "stdout",
     "output_type": "stream",
     "text": [
      "66\n",
      "/mnt/clbp/lit_searches/hypotheses/h5/hyp5_18.pdf\n",
      "164\n",
      "42\n",
      "/mnt/clbp/lit_searches/hypotheses/h5/hyp5_17.pdf\n",
      "200\n",
      "46\n",
      "/mnt/clbp/lit_searches/hypotheses/h5/hyp5_16.pdf\n",
      "213\n"
     ]
    },
    {
     "name": "stderr",
     "output_type": "stream",
     "text": [
      "warning: freetype could not find any cmaps\n"
     ]
    },
    {
     "name": "stdout",
     "output_type": "stream",
     "text": [
      "57\n",
      "/mnt/clbp/lit_searches/hypotheses/h5/hyp5_15.pdf\n",
      "275\n"
     ]
    },
    {
     "name": "stderr",
     "output_type": "stream",
     "text": [
      "warning: undefined link destination\n",
      "warning: ... repeated 4 times...\n"
     ]
    },
    {
     "name": "stdout",
     "output_type": "stream",
     "text": [
      "45\n",
      "/mnt/clbp/lit_searches/hypotheses/h5/hyp5_13.pdf\n",
      "377\n",
      "56\n"
     ]
    }
   ],
   "source": [
    "for dir in DIRS:\n",
    "    print(dir)\n",
    "    path = f\"{SRC_DIR}/{dir}\"\n",
    "    files = glob.glob(path + '/*.pdf')\n",
    "    for infile in files:\n",
    "        print(infile)\n",
    "        r = os.system(f'mutool convert -F text -o {infile}.txt {infile}')\n",
    "        if r != 0:\n",
    "            print(f'Failed PDF->text on {infile}')\n",
    "        else:\n",
    "            new_paragraphs = raw_to_json_func(f\"{infile}.txt\")"
   ]
  },
  {
   "cell_type": "code",
   "execution_count": 265,
   "id": "7086e181-059a-4d5c-b870-999fd93a6180",
   "metadata": {},
   "outputs": [
    {
     "name": "stdout",
     "output_type": "stream",
     "text": [
      "4107\n",
      "1850\n"
     ]
    }
   ],
   "source": [
    "new_paragraphs = raw_to_json_func(\"/mnt/clbp/lit_searches/hypotheses/h2/hyp2_52.pdf.txt\")"
   ]
  },
  {
   "cell_type": "code",
   "execution_count": 268,
   "id": "c2cce2b6-b0ab-4d5a-8dc8-a9b564d52819",
   "metadata": {},
   "outputs": [
    {
     "data": {
      "text/plain": [
       "0        665\n",
       "1       1142\n",
       "2        281\n",
       "3        346\n",
       "4        598\n",
       "        ... \n",
       "1423     283\n",
       "1424     233\n",
       "1425     511\n",
       "1426     416\n",
       "1427     585\n",
       "Length: 1428, dtype: int64"
      ]
     },
     "execution_count": 268,
     "metadata": {},
     "output_type": "execute_result"
    }
   ],
   "source": [
    "import pandas as pd\n",
    "pd.Series(new_paragraphs).map(lambda x: len(x))"
   ]
  },
  {
   "cell_type": "code",
   "execution_count": 270,
   "id": "57ada1e7-797f-4914-a6e9-b81e71153aa7",
   "metadata": {},
   "outputs": [
    {
     "name": "stdout",
     "output_type": "stream",
     "text": [
      "Springer-Verlag Berlin Heidelberg 2014 This work is subject to copyright. All rights are reserved by the Publisher, whether the whole or part of the material is concerned, specifically the rights of translation, reprinting, reuse of illustrations, recitation, broadcasting, reproduction on microfilms or in any other physical way, and transmission or information storage and retrieval, electronic adaptation, computer software, or by similar or dissimilar methodology now known or hereafter developed. Exempted from this legal reservation are brief excerpts in connection with reviews or scholarly analysis or material supplied specifically for the purpose of being entered and executed on a computer system, for exclusive use by the purchaser of the work. Duplication of this publication or parts thereof is permitted only under the provisions of the Copyright Law of the Publishers location, in its current version, and permission for use must always be obtained from Springer. Permissions for use may be obtained through RightsLink at the Copyright Clearance Center. Violations are liable to prosecution under the respective Copyright Law.\n"
     ]
    }
   ],
   "source": [
    "print(new_paragraphs[1])"
   ]
  },
  {
   "cell_type": "markdown",
   "id": "3a27c3df-4825-4bde-831c-c69ba1bdba58",
   "metadata": {},
   "source": [
    "## Coresolution"
   ]
  },
  {
   "cell_type": "code",
   "execution_count": 211,
   "id": "22463218-7387-47a8-8cbf-79a0f8033635",
   "metadata": {},
   "outputs": [
    {
     "name": "stdout",
     "output_type": "stream",
     "text": [
      "h1\n",
      "huggingface/tokenizers: The current process just got forked, after parallelism has already been used. Disabling parallelism to avoid deadlocks...\n",
      "To disable this warning, you can either:\n",
      "\t- Avoid using `tokenizers` before the fork if possible\n",
      "\t- Explicitly set the environment variable TOKENIZERS_PARALLELISM=(true | false)\n",
      "h2\n",
      "huggingface/tokenizers: The current process just got forked, after parallelism has already been used. Disabling parallelism to avoid deadlocks...\n",
      "To disable this warning, you can either:\n",
      "\t- Avoid using `tokenizers` before the fork if possible\n",
      "\t- Explicitly set the environment variable TOKENIZERS_PARALLELISM=(true | false)\n",
      "h4\n",
      "huggingface/tokenizers: The current process just got forked, after parallelism has already been used. Disabling parallelism to avoid deadlocks...\n",
      "To disable this warning, you can either:\n",
      "\t- Avoid using `tokenizers` before the fork if possible\n",
      "\t- Explicitly set the environment variable TOKENIZERS_PARALLELISM=(true | false)\n",
      "h5\n",
      "huggingface/tokenizers: The current process just got forked, after parallelism has already been used. Disabling parallelism to avoid deadlocks...\n",
      "To disable this warning, you can either:\n",
      "\t- Avoid using `tokenizers` before the fork if possible\n",
      "\t- Explicitly set the environment variable TOKENIZERS_PARALLELISM=(true | false)\n"
     ]
    }
   ],
   "source": [
    "for dir in DIRS:\n",
    "    print(dir)\n",
    "    path = f\"{SRC_DIR}/{dir}\"\n",
    "    !mkdir $path/coref_resolved/"
   ]
  },
  {
   "cell_type": "code",
   "execution_count": 259,
   "id": "82b733bb-0eb5-49de-bf68-367ecfda7a6b",
   "metadata": {
    "scrolled": true
   },
   "outputs": [
    {
     "name": "stdout",
     "output_type": "stream",
     "text": [
      "h1\n",
      "/mnt/clbp/lit_searches/hypotheses/h1/hyp1_1.pdf.json\n",
      "/mnt/clbp/lit_searches/hypotheses/h1/hyp1_26.pdf.json\n",
      "/mnt/clbp/lit_searches/hypotheses/h1/hyp1_2.pdf.json\n",
      "resolv_func error on text:\n",
      "\n",
      "\n",
      "skipping\n",
      "/mnt/clbp/lit_searches/hypotheses/h1/hyp1_30.pdf.json\n",
      "/mnt/clbp/lit_searches/hypotheses/h1/hyp1_3.pdf.json\n",
      "/mnt/clbp/lit_searches/hypotheses/h1/hyp1_36.pdf.json\n",
      "/mnt/clbp/lit_searches/hypotheses/h1/hyp1_4.pdf.json\n",
      "/mnt/clbp/lit_searches/hypotheses/h1/hyp1_5.pdf.json\n",
      "/mnt/clbp/lit_searches/hypotheses/h1/hyp1_38.pdf.json\n",
      "/mnt/clbp/lit_searches/hypotheses/h1/hyp1_6.pdf.json\n",
      "/mnt/clbp/lit_searches/hypotheses/h1/hyp1_40.pdf.json\n",
      "/mnt/clbp/lit_searches/hypotheses/h1/hyp1_7.pdf.json\n",
      "/mnt/clbp/lit_searches/hypotheses/h1/hyp1_44.pdf.json\n",
      "/mnt/clbp/lit_searches/hypotheses/h1/hyp1_8.pdf.json\n",
      "/mnt/clbp/lit_searches/hypotheses/h1/chs_1.pdf.json\n",
      "/mnt/clbp/lit_searches/hypotheses/h1/hyp1_9.pdf.json\n",
      "/mnt/clbp/lit_searches/hypotheses/h1/hyp1_10.pdf.json\n",
      "/mnt/clbp/lit_searches/hypotheses/h1/hyp1_11.pdf.json\n",
      "/mnt/clbp/lit_searches/hypotheses/h1/hyp1_13.pdf.json\n",
      "/mnt/clbp/lit_searches/hypotheses/h1/hyp1_14.pdf.json\n",
      "/mnt/clbp/lit_searches/hypotheses/h1/hyp1_17.pdf.json\n",
      "/mnt/clbp/lit_searches/hypotheses/h1/hyp1_18.pdf.json\n",
      "/mnt/clbp/lit_searches/hypotheses/h1/hyp1_19.pdf.json\n",
      "/mnt/clbp/lit_searches/hypotheses/h1/hyp1_46.pdf.json\n",
      "/mnt/clbp/lit_searches/hypotheses/h1/hyp1_45.pdf.json\n",
      "/mnt/clbp/lit_searches/hypotheses/h1/hyp1_21.pdf.json\n",
      "/mnt/clbp/lit_searches/hypotheses/h1/hyp1_23.pdf.json\n",
      "/mnt/clbp/lit_searches/hypotheses/h1/hyp1_24.pdf.json\n",
      "/mnt/clbp/lit_searches/hypotheses/h1/hyp1_28.pdf.json\n",
      "/mnt/clbp/lit_searches/hypotheses/h1/hyp1_29.pdf.json\n",
      "/mnt/clbp/lit_searches/hypotheses/h1/hyp1_34.pdf.json\n",
      "/mnt/clbp/lit_searches/hypotheses/h1/hyp1_32.pdf.json\n",
      "/mnt/clbp/lit_searches/hypotheses/h1/hyp1_41.pdf.json\n",
      "/mnt/clbp/lit_searches/hypotheses/h1/hyp1_37.pdf.json\n",
      "/mnt/clbp/lit_searches/hypotheses/h1/hyp1_22.pdf.json\n",
      "/mnt/clbp/lit_searches/hypotheses/h1/hyp1_27.pdf.json\n",
      "/mnt/clbp/lit_searches/hypotheses/h1/hyp1_25.pdf.json\n",
      "/mnt/clbp/lit_searches/hypotheses/h1/hyp1_39.pdf.json\n",
      "/mnt/clbp/lit_searches/hypotheses/h1/hyp1_43.pdf.json\n",
      "/mnt/clbp/lit_searches/hypotheses/h1/hyp1_47.pdf.json\n",
      "/mnt/clbp/lit_searches/hypotheses/h1/hyp1_33.pdf.json\n",
      "h2\n",
      "/mnt/clbp/lit_searches/hypotheses/h2/hyp2_1.pdf.json\n",
      "/mnt/clbp/lit_searches/hypotheses/h2/hyp2_2.pdf.json\n",
      "/mnt/clbp/lit_searches/hypotheses/h2/hyp2_4.pdf.json\n",
      "/mnt/clbp/lit_searches/hypotheses/h2/hyp2_5.pdf.json\n",
      "/mnt/clbp/lit_searches/hypotheses/h2/hyp2_6.pdf.json\n",
      "/mnt/clbp/lit_searches/hypotheses/h2/hyp2_7.pdf.json\n",
      "/mnt/clbp/lit_searches/hypotheses/h2/hyp2_8.pdf.json\n",
      "/mnt/clbp/lit_searches/hypotheses/h2/hyp2_9.pdf.json\n",
      "/mnt/clbp/lit_searches/hypotheses/h2/hyp2_10.pdf.json\n",
      "/mnt/clbp/lit_searches/hypotheses/h2/hyp2_11.pdf.json\n",
      "/mnt/clbp/lit_searches/hypotheses/h2/hyp2_12.pdf.json\n",
      "/mnt/clbp/lit_searches/hypotheses/h2/hyp2_13.pdf.json\n",
      "/mnt/clbp/lit_searches/hypotheses/h2/hyp2_14.pdf.json\n",
      "/mnt/clbp/lit_searches/hypotheses/h2/hyp2_15.pdf.json\n",
      "/mnt/clbp/lit_searches/hypotheses/h2/hyp2_16.pdf.json\n",
      "/mnt/clbp/lit_searches/hypotheses/h2/hyp2_17.pdf.json\n",
      "/mnt/clbp/lit_searches/hypotheses/h2/hyp2_18.pdf.json\n",
      "/mnt/clbp/lit_searches/hypotheses/h2/hyp2_19.pdf.json\n",
      "/mnt/clbp/lit_searches/hypotheses/h2/hyp2_20.pdf.json\n",
      "/mnt/clbp/lit_searches/hypotheses/h2/hyp2_21.pdf.json\n",
      "/mnt/clbp/lit_searches/hypotheses/h2/hyp2_22.pdf.json\n",
      "/mnt/clbp/lit_searches/hypotheses/h2/hyp2_23.pdf.json\n",
      "/mnt/clbp/lit_searches/hypotheses/h2/hyp2_24.pdf.json\n",
      "/mnt/clbp/lit_searches/hypotheses/h2/hyp2_25.pdf.json\n",
      "/mnt/clbp/lit_searches/hypotheses/h2/hyp2_26.pdf.json\n",
      "/mnt/clbp/lit_searches/hypotheses/h2/hyp2_27.pdf.json\n",
      "/mnt/clbp/lit_searches/hypotheses/h2/hyp2_28.pdf.json\n",
      "/mnt/clbp/lit_searches/hypotheses/h2/hyp2_29.pdf.json\n",
      "/mnt/clbp/lit_searches/hypotheses/h2/hyp2_30.pdf.json\n",
      "/mnt/clbp/lit_searches/hypotheses/h2/hyp2_31.pdf.json\n",
      "/mnt/clbp/lit_searches/hypotheses/h2/hyp2_32.pdf.json\n",
      "/mnt/clbp/lit_searches/hypotheses/h2/hyp2_33.pdf.json\n",
      "/mnt/clbp/lit_searches/hypotheses/h2/hyp2_35.pdf.json\n",
      "/mnt/clbp/lit_searches/hypotheses/h2/hyp2_36.pdf.json\n",
      "/mnt/clbp/lit_searches/hypotheses/h2/hyp2_37.pdf.json\n",
      "/mnt/clbp/lit_searches/hypotheses/h2/hyp2_38.pdf.json\n",
      "/mnt/clbp/lit_searches/hypotheses/h2/hyp2_40.pdf.json\n",
      "/mnt/clbp/lit_searches/hypotheses/h2/hyp2_41.pdf.json\n",
      "/mnt/clbp/lit_searches/hypotheses/h2/hyp2_42.pdf.json\n",
      "/mnt/clbp/lit_searches/hypotheses/h2/hyp2_43.pdf.json\n",
      "/mnt/clbp/lit_searches/hypotheses/h2/hyp2_44.pdf.json\n",
      "/mnt/clbp/lit_searches/hypotheses/h2/hyp2_45.pdf.json\n",
      "/mnt/clbp/lit_searches/hypotheses/h2/hyp2_46.pdf.json\n",
      "/mnt/clbp/lit_searches/hypotheses/h2/hyp2_47.pdf.json\n",
      "/mnt/clbp/lit_searches/hypotheses/h2/hyp2_48.pdf.json\n",
      "/mnt/clbp/lit_searches/hypotheses/h2/hyp2_49.pdf.json\n",
      "/mnt/clbp/lit_searches/hypotheses/h2/hyp2_50.pdf.json\n",
      "resolv_func error on text:\n",
      "\n",
      "\n",
      "skipping\n",
      "/mnt/clbp/lit_searches/hypotheses/h2/hyp2_51.pdf.json\n",
      "/mnt/clbp/lit_searches/hypotheses/h2/hyp2_52.pdf.json\n",
      "/mnt/clbp/lit_searches/hypotheses/h2/hyp2_53.pdf.json\n",
      "/mnt/clbp/lit_searches/hypotheses/h2/hyp2_54.pdf.json\n",
      "/mnt/clbp/lit_searches/hypotheses/h2/hyp2_55.pdf.json\n",
      "/mnt/clbp/lit_searches/hypotheses/h2/hyp2_56.pdf.json\n",
      "/mnt/clbp/lit_searches/hypotheses/h2/hyp2_57.pdf.json\n",
      "/mnt/clbp/lit_searches/hypotheses/h2/hyp2_58.pdf.json\n",
      "/mnt/clbp/lit_searches/hypotheses/h2/hyp2_59.pdf.json\n",
      "/mnt/clbp/lit_searches/hypotheses/h2/hyp2_60.pdf.json\n",
      "/mnt/clbp/lit_searches/hypotheses/h2/hyp2_61.pdf.json\n",
      "/mnt/clbp/lit_searches/hypotheses/h2/hyp2_62.pdf.json\n",
      "/mnt/clbp/lit_searches/hypotheses/h2/hyp2_63.pdf.json\n",
      "/mnt/clbp/lit_searches/hypotheses/h2/hyp2_64.pdf.json\n",
      "/mnt/clbp/lit_searches/hypotheses/h2/hyp2_65.pdf.json\n",
      "/mnt/clbp/lit_searches/hypotheses/h2/hyp2_66.pdf.json\n",
      "/mnt/clbp/lit_searches/hypotheses/h2/hyp2_67.pdf.json\n",
      "/mnt/clbp/lit_searches/hypotheses/h2/hyp2_68.pdf.json\n",
      "/mnt/clbp/lit_searches/hypotheses/h2/hyp2_69.pdf.json\n",
      "/mnt/clbp/lit_searches/hypotheses/h2/hyp2_70.pdf.json\n",
      "/mnt/clbp/lit_searches/hypotheses/h2/hyp2_71.pdf.json\n",
      "resolv_func error on text:\n",
      "\n",
      "\n",
      "skipping\n",
      "/mnt/clbp/lit_searches/hypotheses/h2/hyp2_72.pdf.json\n",
      "/mnt/clbp/lit_searches/hypotheses/h2/hyp2_75.pdf.json\n",
      "/mnt/clbp/lit_searches/hypotheses/h2/hyp2_76.pdf.json\n",
      "/mnt/clbp/lit_searches/hypotheses/h2/hyp2_77.pdf.json\n",
      "/mnt/clbp/lit_searches/hypotheses/h2/hyp2_78.pdf.json\n",
      "/mnt/clbp/lit_searches/hypotheses/h2/hyp7_79.pdf.json\n",
      "h4\n",
      "/mnt/clbp/lit_searches/hypotheses/h4/hyp4_9.pdf.json\n",
      "/mnt/clbp/lit_searches/hypotheses/h4/hyp4_8.pdf.json\n",
      "/mnt/clbp/lit_searches/hypotheses/h4/hyp4_7.pdf.json\n",
      "/mnt/clbp/lit_searches/hypotheses/h4/hyp4_6.pdf.json\n",
      "/mnt/clbp/lit_searches/hypotheses/h4/hyp4_5.pdf.json\n",
      "/mnt/clbp/lit_searches/hypotheses/h4/hyp4_3.pdf.json\n",
      "/mnt/clbp/lit_searches/hypotheses/h4/hyp4_23.pdf.json\n",
      "/mnt/clbp/lit_searches/hypotheses/h4/hyp4_22.pdf.json\n",
      "/mnt/clbp/lit_searches/hypotheses/h4/hyp4_21.pdf.json\n",
      "/mnt/clbp/lit_searches/hypotheses/h4/hyp4_20.pdf.json\n",
      "/mnt/clbp/lit_searches/hypotheses/h4/hyp4_2.pdf.json\n",
      "/mnt/clbp/lit_searches/hypotheses/h4/hyp4_19.pdf.json\n",
      "resolv_func error on text:\n",
      "\n",
      "\n",
      "skipping\n",
      "/mnt/clbp/lit_searches/hypotheses/h4/hyp4_18.pdf.json\n",
      "/mnt/clbp/lit_searches/hypotheses/h4/hyp4_17.pdf.json\n",
      "/mnt/clbp/lit_searches/hypotheses/h4/hyp4_15.pdf.json\n",
      "resolv_func error on text:\n",
      "\n",
      "\n",
      "skipping\n",
      "/mnt/clbp/lit_searches/hypotheses/h4/hyp4_14.pdf.json\n",
      "/mnt/clbp/lit_searches/hypotheses/h4/hyp4_13.pdf.json\n",
      "/mnt/clbp/lit_searches/hypotheses/h4/hyp4_12.pdf.json\n",
      "/mnt/clbp/lit_searches/hypotheses/h4/hyp4_10.pdf.json\n",
      "/mnt/clbp/lit_searches/hypotheses/h4/hyp4_1.pdf.json\n",
      "/mnt/clbp/lit_searches/hypotheses/h4/chs_4.pdf.json\n",
      "h5\n",
      "/mnt/clbp/lit_searches/hypotheses/h5/h5.pdf.json\n",
      "/mnt/clbp/lit_searches/hypotheses/h5/hyp5_1.pdf.json\n",
      "/mnt/clbp/lit_searches/hypotheses/h5/hyp5_10.pdf.json\n",
      "/mnt/clbp/lit_searches/hypotheses/h5/hyp5_37.pdf.json\n",
      "/mnt/clbp/lit_searches/hypotheses/h5/hyp5_2.pdf.json\n",
      "/mnt/clbp/lit_searches/hypotheses/h5/hyp5_36.pdf.json\n",
      "/mnt/clbp/lit_searches/hypotheses/h5/hyp5_4.pdf.json\n",
      "resolv_func error on text:\n",
      "\n",
      "\n",
      "skipping\n",
      "/mnt/clbp/lit_searches/hypotheses/h5/hyp5_35.pdf.json\n",
      "/mnt/clbp/lit_searches/hypotheses/h5/hyp5_5.pdf.json\n",
      "/mnt/clbp/lit_searches/hypotheses/h5/hyp5_34.pdf.json\n",
      "/mnt/clbp/lit_searches/hypotheses/h5/hyp5_6.pdf.json\n",
      "/mnt/clbp/lit_searches/hypotheses/h5/hyp5_33.pdf.json\n",
      "/mnt/clbp/lit_searches/hypotheses/h5/hyp5_7.pdf.json\n",
      "/mnt/clbp/lit_searches/hypotheses/h5/hyp5_32.pdf.json\n",
      "/mnt/clbp/lit_searches/hypotheses/h5/hyp5_8.pdf.json\n",
      "/mnt/clbp/lit_searches/hypotheses/h5/hyp5_31.pdf.json\n",
      "/mnt/clbp/lit_searches/hypotheses/h5/hyp5_9.pdf.json\n",
      "/mnt/clbp/lit_searches/hypotheses/h5/hyp5_12.pdf.json\n",
      "/mnt/clbp/lit_searches/hypotheses/h5/hyp5_11.pdf.json\n",
      "/mnt/clbp/lit_searches/hypotheses/h5/hyp5_48.pdf.json\n",
      "/mnt/clbp/lit_searches/hypotheses/h5/hyp5_47.pdf.json\n",
      "/mnt/clbp/lit_searches/hypotheses/h5/hyp5_45.pdf.json\n",
      "/mnt/clbp/lit_searches/hypotheses/h5/hyp5_42.pdf.json\n",
      "/mnt/clbp/lit_searches/hypotheses/h5/hyp5_39.pdf.json\n",
      "/mnt/clbp/lit_searches/hypotheses/h5/hyp5_25.pdf.json\n",
      "/mnt/clbp/lit_searches/hypotheses/h5/hyp5_43.pdf.json\n",
      "/mnt/clbp/lit_searches/hypotheses/h5/hyp5_40.pdf.json\n",
      "/mnt/clbp/lit_searches/hypotheses/h5/hyp5_30.pdf.json\n",
      "/mnt/clbp/lit_searches/hypotheses/h5/hyp5_14.pdf.json\n",
      "/mnt/clbp/lit_searches/hypotheses/h5/hyp5_49.pdf.json\n",
      "/mnt/clbp/lit_searches/hypotheses/h5/hyp5_46.pdf.json\n",
      "/mnt/clbp/lit_searches/hypotheses/h5/hyp5_44.pdf.json\n",
      "/mnt/clbp/lit_searches/hypotheses/h5/hyp5_41.pdf.json\n",
      "/mnt/clbp/lit_searches/hypotheses/h5/hyp5_38.pdf.json\n",
      "/mnt/clbp/lit_searches/hypotheses/h5/hyp5_3.pdf.json\n",
      "/mnt/clbp/lit_searches/hypotheses/h5/hyp5_29.pdf.json\n",
      "/mnt/clbp/lit_searches/hypotheses/h5/hyp5_28.pdf.json\n",
      "/mnt/clbp/lit_searches/hypotheses/h5/hyp5_27.pdf.json\n",
      "/mnt/clbp/lit_searches/hypotheses/h5/hyp5_26.pdf.json\n",
      "/mnt/clbp/lit_searches/hypotheses/h5/hyp5_24.pdf.json\n",
      "/mnt/clbp/lit_searches/hypotheses/h5/hyp5_23.pdf.json\n",
      "/mnt/clbp/lit_searches/hypotheses/h5/hyp5_22.pdf.json\n",
      "/mnt/clbp/lit_searches/hypotheses/h5/hyp5_21.pdf.json\n",
      "/mnt/clbp/lit_searches/hypotheses/h5/hyp5_20.pdf.json\n",
      "/mnt/clbp/lit_searches/hypotheses/h5/hyp5_19.pdf.json\n",
      "/mnt/clbp/lit_searches/hypotheses/h5/hyp5_18.pdf.json\n",
      "/mnt/clbp/lit_searches/hypotheses/h5/hyp5_17.pdf.json\n",
      "/mnt/clbp/lit_searches/hypotheses/h5/hyp5_16.pdf.json\n",
      "/mnt/clbp/lit_searches/hypotheses/h5/hyp5_15.pdf.json\n",
      "/mnt/clbp/lit_searches/hypotheses/h5/hyp5_13.pdf.json\n"
     ]
    }
   ],
   "source": [
    "for dir in DIRS:\n",
    "    print(dir)\n",
    "    path = f\"{SRC_DIR}/{dir}\"\n",
    "    files = glob.glob(path + '/*.json')\n",
    "    changed_sentences = []\n",
    "    unchanged_sentences = []\n",
    "    for file in files:\n",
    "        print(file)\n",
    "        with open(file) as f:\n",
    "            data = json.load(f)\n",
    "        paragraphs = data[\"contents\"].split(\"\\n\\n\")\n",
    "        new_paragraphs = []\n",
    "        for text in paragraphs:\n",
    "            try:\n",
    "                text2,from_text,to_text = resolv_func(text)\n",
    "            except:\n",
    "                print(\"resolv_func error on text:\")\n",
    "                print(text)\n",
    "                print(\"\\nskipping\")\n",
    "                continue\n",
    "            if text2 != text:\n",
    "                changed_sentences.append([text,from_text,to_text,\"?\"])\n",
    "            else:\n",
    "                unchanged_sentences.append(text)\n",
    "            new_paragraphs.append(text2)\n",
    "        new_file = path+\"/coref_resolved/\"+file.split(\"/\")[-1]\n",
    "        with open(new_file,\"w\") as f:\n",
    "            data['contents'] = \"\\n\\n\".join(new_paragraphs)\n",
    "            f.write(json.dumps(data))"
   ]
  },
  {
   "cell_type": "markdown",
   "id": "f4ad0e09-3fc6-4084-9f78-17c06bdef5f6",
   "metadata": {},
   "source": [
    "## Extract text that is relevant to a hypothesis"
   ]
  },
  {
   "cell_type": "code",
   "execution_count": 57,
   "id": "fe724d8c-af99-4cc3-a71e-6562c742df71",
   "metadata": {},
   "outputs": [],
   "source": [
    "hyp = \"Cognitive therapy, mindfulness-based stress reduction, behavior therapy, and similar psychosocial-focused therapies produce similar pain reductions and improve other outcome measures.  Hypothesis: most of the benefits derive from participating in an informative, interactive focused activity, rather than the distinguishing details of the specific treatment technique.\"\n",
    "next_dir = \"related_hyp1\""
   ]
  },
  {
   "cell_type": "code",
   "execution_count": 216,
   "id": "05adab44-0572-4c6c-b61a-639e4f5fd909",
   "metadata": {},
   "outputs": [
    {
     "name": "stdout",
     "output_type": "stream",
     "text": [
      "h1\n",
      "huggingface/tokenizers: The current process just got forked, after parallelism has already been used. Disabling parallelism to avoid deadlocks...\n",
      "To disable this warning, you can either:\n",
      "\t- Avoid using `tokenizers` before the fork if possible\n",
      "\t- Explicitly set the environment variable TOKENIZERS_PARALLELISM=(true | false)\n",
      "h2\n",
      "huggingface/tokenizers: The current process just got forked, after parallelism has already been used. Disabling parallelism to avoid deadlocks...\n",
      "To disable this warning, you can either:\n",
      "\t- Avoid using `tokenizers` before the fork if possible\n",
      "\t- Explicitly set the environment variable TOKENIZERS_PARALLELISM=(true | false)\n",
      "h4\n",
      "huggingface/tokenizers: The current process just got forked, after parallelism has already been used. Disabling parallelism to avoid deadlocks...\n",
      "To disable this warning, you can either:\n",
      "\t- Avoid using `tokenizers` before the fork if possible\n",
      "\t- Explicitly set the environment variable TOKENIZERS_PARALLELISM=(true | false)\n",
      "h5\n",
      "huggingface/tokenizers: The current process just got forked, after parallelism has already been used. Disabling parallelism to avoid deadlocks...\n",
      "To disable this warning, you can either:\n",
      "\t- Avoid using `tokenizers` before the fork if possible\n",
      "\t- Explicitly set the environment variable TOKENIZERS_PARALLELISM=(true | false)\n"
     ]
    }
   ],
   "source": [
    "for dir in DIRS:\n",
    "    print(dir)\n",
    "    path = f\"{SRC_DIR}/{dir}\"\n",
    "    !mkdir $path/coref_resolved/$next_dir"
   ]
  },
  {
   "cell_type": "code",
   "execution_count": 260,
   "id": "d48d5ff4-fc26-44c9-958f-533f6341388c",
   "metadata": {},
   "outputs": [
    {
     "data": {
      "text/plain": [
       "dict_keys(['title', 'contents'])"
      ]
     },
     "execution_count": 260,
     "metadata": {},
     "output_type": "execute_result"
    }
   ],
   "source": [
    "d = json.loads(open(\"/mnt/clbp/lit_searches/hypotheses/h2/coref_resolved/hyp2_5.pdf.json\").read())\n",
    "d.keys()"
   ]
  },
  {
   "cell_type": "code",
   "execution_count": 261,
   "id": "29555ac6-420f-4602-95cb-b95483d9374d",
   "metadata": {},
   "outputs": [
    {
     "data": {
      "text/plain": [
       "18"
      ]
     },
     "execution_count": 261,
     "metadata": {},
     "output_type": "execute_result"
    }
   ],
   "source": [
    "len(d['contents'].split(\"\\n\\n\"))"
   ]
  },
  {
   "cell_type": "code",
   "execution_count": 272,
   "id": "35458233-e43c-497e-a2d1-9d418ecd25fe",
   "metadata": {
    "scrolled": true
   },
   "outputs": [
    {
     "name": "stdout",
     "output_type": "stream",
     "text": [
      "Request timed out: HTTPSConnectionPool(host='api.openai.com', port=443): Read timed out. (read timeout=600)\n",
      "Trying openai for 2 time\n",
      "This model's maximum context length is 4097 tokens. However, your messages resulted in 5408 tokens. Please reduce the length of the messages.\n",
      "Trying openai for 2 time\n",
      "This model's maximum context length is 4097 tokens. However, your messages resulted in 5408 tokens. Please reduce the length of the messages.\n",
      "Trying openai for 3 time\n",
      "This model's maximum context length is 4097 tokens. However, your messages resulted in 5408 tokens. Please reduce the length of the messages.\n",
      "This model's maximum context length is 4097 tokens. However, your messages resulted in 4722 tokens. Please reduce the length of the messages.\n",
      "Trying openai for 2 time\n",
      "This model's maximum context length is 4097 tokens. However, your messages resulted in 4722 tokens. Please reduce the length of the messages.\n",
      "Trying openai for 3 time\n",
      "This model's maximum context length is 4097 tokens. However, your messages resulted in 4722 tokens. Please reduce the length of the messages.\n",
      "This model's maximum context length is 4097 tokens. However, your messages resulted in 5874 tokens. Please reduce the length of the messages.\n",
      "Trying openai for 2 time\n",
      "This model's maximum context length is 4097 tokens. However, your messages resulted in 5874 tokens. Please reduce the length of the messages.\n",
      "Trying openai for 3 time\n",
      "This model's maximum context length is 4097 tokens. However, your messages resulted in 5874 tokens. Please reduce the length of the messages.\n"
     ]
    }
   ],
   "source": [
    "related_content_func = kg_generation.clean.get_related_content_func1()\n",
    "\n",
    "relevant_paragraphs,non_relevant_paragraphs = related_content_func(file,new_file,hyp)"
   ]
  },
  {
   "cell_type": "code",
   "execution_count": 273,
   "id": "43532036-e12d-4ca3-b788-071d8b2babd3",
   "metadata": {},
   "outputs": [
    {
     "data": {
      "text/plain": [
       "48"
      ]
     },
     "execution_count": 273,
     "metadata": {},
     "output_type": "execute_result"
    }
   ],
   "source": [
    "all_files = files\n"
   ]
  },
  {
   "cell_type": "code",
   "execution_count": 274,
   "id": "533c40e9-2741-4d28-8d27-bc4d30f83f40",
   "metadata": {},
   "outputs": [
    {
     "data": {
      "text/plain": [
       "'/mnt/clbp/lit_searches/hypotheses/h2/coref_resolved/hyp2_53.pdf.json'"
      ]
     },
     "execution_count": 274,
     "metadata": {},
     "output_type": "execute_result"
    }
   ],
   "source": [
    "files = files[files.index(file)+1]\n",
    "files "
   ]
  },
  {
   "cell_type": "code",
   "execution_count": 275,
   "id": "675c96a4-967a-411c-9ff0-9051fe726dbd",
   "metadata": {},
   "outputs": [],
   "source": [
    "files = [files]"
   ]
  },
  {
   "cell_type": "code",
   "execution_count": 279,
   "id": "5ee77359-c23a-421f-8378-24e459ba4ca1",
   "metadata": {
    "scrolled": true
   },
   "outputs": [
    {
     "name": "stdout",
     "output_type": "stream",
     "text": [
      "h4\n",
      "/mnt/clbp/lit_searches/hypotheses/h4/coref_resolved/hyp4_9.pdf.json\n",
      "/mnt/clbp/lit_searches/hypotheses/h4/coref_resolved/hyp4_8.pdf.json\n",
      "/mnt/clbp/lit_searches/hypotheses/h4/coref_resolved/hyp4_7.pdf.json\n",
      "/mnt/clbp/lit_searches/hypotheses/h4/coref_resolved/hyp4_6.pdf.json\n",
      "/mnt/clbp/lit_searches/hypotheses/h4/coref_resolved/hyp4_5.pdf.json\n",
      "/mnt/clbp/lit_searches/hypotheses/h4/coref_resolved/hyp4_3.pdf.json\n",
      "Error communicating with OpenAI: ('Connection aborted.', ConnectionResetError(104, 'Connection reset by peer'))\n",
      "Trying openai for 2 time\n",
      "/mnt/clbp/lit_searches/hypotheses/h4/coref_resolved/hyp4_23.pdf.json\n",
      "/mnt/clbp/lit_searches/hypotheses/h4/coref_resolved/hyp4_22.pdf.json\n",
      "/mnt/clbp/lit_searches/hypotheses/h4/coref_resolved/hyp4_21.pdf.json\n",
      "/mnt/clbp/lit_searches/hypotheses/h4/coref_resolved/hyp4_20.pdf.json\n",
      "/mnt/clbp/lit_searches/hypotheses/h4/coref_resolved/hyp4_2.pdf.json\n",
      "/mnt/clbp/lit_searches/hypotheses/h4/coref_resolved/hyp4_19.pdf.json\n",
      "/mnt/clbp/lit_searches/hypotheses/h4/coref_resolved/hyp4_18.pdf.json\n",
      "/mnt/clbp/lit_searches/hypotheses/h4/coref_resolved/hyp4_17.pdf.json\n",
      "/mnt/clbp/lit_searches/hypotheses/h4/coref_resolved/hyp4_15.pdf.json\n",
      "/mnt/clbp/lit_searches/hypotheses/h4/coref_resolved/hyp4_14.pdf.json\n",
      "/mnt/clbp/lit_searches/hypotheses/h4/coref_resolved/hyp4_13.pdf.json\n",
      "/mnt/clbp/lit_searches/hypotheses/h4/coref_resolved/hyp4_12.pdf.json\n",
      "/mnt/clbp/lit_searches/hypotheses/h4/coref_resolved/hyp4_10.pdf.json\n",
      "/mnt/clbp/lit_searches/hypotheses/h4/coref_resolved/hyp4_1.pdf.json\n",
      "/mnt/clbp/lit_searches/hypotheses/h4/coref_resolved/chs_4.pdf.json\n",
      "h5\n",
      "/mnt/clbp/lit_searches/hypotheses/h5/coref_resolved/h5.pdf.json\n",
      "/mnt/clbp/lit_searches/hypotheses/h5/coref_resolved/hyp5_1.pdf.json\n",
      "/mnt/clbp/lit_searches/hypotheses/h5/coref_resolved/hyp5_10.pdf.json\n",
      "/mnt/clbp/lit_searches/hypotheses/h5/coref_resolved/hyp5_37.pdf.json\n",
      "/mnt/clbp/lit_searches/hypotheses/h5/coref_resolved/hyp5_2.pdf.json\n",
      "/mnt/clbp/lit_searches/hypotheses/h5/coref_resolved/hyp5_36.pdf.json\n",
      "/mnt/clbp/lit_searches/hypotheses/h5/coref_resolved/hyp5_4.pdf.json\n",
      "/mnt/clbp/lit_searches/hypotheses/h5/coref_resolved/hyp5_35.pdf.json\n",
      "/mnt/clbp/lit_searches/hypotheses/h5/coref_resolved/hyp5_5.pdf.json\n",
      "/mnt/clbp/lit_searches/hypotheses/h5/coref_resolved/hyp5_34.pdf.json\n",
      "/mnt/clbp/lit_searches/hypotheses/h5/coref_resolved/hyp5_6.pdf.json\n",
      "/mnt/clbp/lit_searches/hypotheses/h5/coref_resolved/hyp5_33.pdf.json\n",
      "/mnt/clbp/lit_searches/hypotheses/h5/coref_resolved/hyp5_7.pdf.json\n",
      "/mnt/clbp/lit_searches/hypotheses/h5/coref_resolved/hyp5_32.pdf.json\n",
      "/mnt/clbp/lit_searches/hypotheses/h5/coref_resolved/hyp5_8.pdf.json\n",
      "/mnt/clbp/lit_searches/hypotheses/h5/coref_resolved/hyp5_31.pdf.json\n",
      "/mnt/clbp/lit_searches/hypotheses/h5/coref_resolved/hyp5_9.pdf.json\n",
      "/mnt/clbp/lit_searches/hypotheses/h5/coref_resolved/hyp5_12.pdf.json\n",
      "/mnt/clbp/lit_searches/hypotheses/h5/coref_resolved/hyp5_11.pdf.json\n",
      "/mnt/clbp/lit_searches/hypotheses/h5/coref_resolved/hyp5_48.pdf.json\n",
      "/mnt/clbp/lit_searches/hypotheses/h5/coref_resolved/hyp5_47.pdf.json\n",
      "/mnt/clbp/lit_searches/hypotheses/h5/coref_resolved/hyp5_45.pdf.json\n",
      "/mnt/clbp/lit_searches/hypotheses/h5/coref_resolved/hyp5_42.pdf.json\n",
      "/mnt/clbp/lit_searches/hypotheses/h5/coref_resolved/hyp5_39.pdf.json\n",
      "/mnt/clbp/lit_searches/hypotheses/h5/coref_resolved/hyp5_25.pdf.json\n",
      "/mnt/clbp/lit_searches/hypotheses/h5/coref_resolved/hyp5_43.pdf.json\n",
      "/mnt/clbp/lit_searches/hypotheses/h5/coref_resolved/hyp5_40.pdf.json\n",
      "/mnt/clbp/lit_searches/hypotheses/h5/coref_resolved/hyp5_30.pdf.json\n",
      "Request timed out: HTTPSConnectionPool(host='api.openai.com', port=443): Read timed out. (read timeout=600)\n",
      "Trying openai for 2 time\n",
      "/mnt/clbp/lit_searches/hypotheses/h5/coref_resolved/hyp5_14.pdf.json\n",
      "/mnt/clbp/lit_searches/hypotheses/h5/coref_resolved/hyp5_49.pdf.json\n",
      "/mnt/clbp/lit_searches/hypotheses/h5/coref_resolved/hyp5_46.pdf.json\n",
      "/mnt/clbp/lit_searches/hypotheses/h5/coref_resolved/hyp5_44.pdf.json\n",
      "/mnt/clbp/lit_searches/hypotheses/h5/coref_resolved/hyp5_41.pdf.json\n",
      "/mnt/clbp/lit_searches/hypotheses/h5/coref_resolved/hyp5_38.pdf.json\n",
      "/mnt/clbp/lit_searches/hypotheses/h5/coref_resolved/hyp5_3.pdf.json\n",
      "/mnt/clbp/lit_searches/hypotheses/h5/coref_resolved/hyp5_29.pdf.json\n",
      "/mnt/clbp/lit_searches/hypotheses/h5/coref_resolved/hyp5_28.pdf.json\n",
      "/mnt/clbp/lit_searches/hypotheses/h5/coref_resolved/hyp5_27.pdf.json\n",
      "/mnt/clbp/lit_searches/hypotheses/h5/coref_resolved/hyp5_26.pdf.json\n",
      "/mnt/clbp/lit_searches/hypotheses/h5/coref_resolved/hyp5_24.pdf.json\n",
      "/mnt/clbp/lit_searches/hypotheses/h5/coref_resolved/hyp5_23.pdf.json\n",
      "/mnt/clbp/lit_searches/hypotheses/h5/coref_resolved/hyp5_22.pdf.json\n",
      "/mnt/clbp/lit_searches/hypotheses/h5/coref_resolved/hyp5_21.pdf.json\n",
      "/mnt/clbp/lit_searches/hypotheses/h5/coref_resolved/hyp5_20.pdf.json\n",
      "/mnt/clbp/lit_searches/hypotheses/h5/coref_resolved/hyp5_19.pdf.json\n",
      "/mnt/clbp/lit_searches/hypotheses/h5/coref_resolved/hyp5_18.pdf.json\n",
      "/mnt/clbp/lit_searches/hypotheses/h5/coref_resolved/hyp5_17.pdf.json\n",
      "/mnt/clbp/lit_searches/hypotheses/h5/coref_resolved/hyp5_16.pdf.json\n",
      "/mnt/clbp/lit_searches/hypotheses/h5/coref_resolved/hyp5_15.pdf.json\n",
      "/mnt/clbp/lit_searches/hypotheses/h5/coref_resolved/hyp5_13.pdf.json\n"
     ]
    }
   ],
   "source": [
    "related_content_func = kg_generation.clean.get_related_content_func1()\n",
    "\n",
    "for dir in DIRS[2:]:\n",
    "    print(dir)\n",
    "    path = f\"{SRC_DIR}/{dir}/coref_resolved\"\n",
    "    files = glob.glob(path + '/*.json')\n",
    "    changed_sentences = []\n",
    "    unchanged_sentences = []\n",
    "    for file in files:\n",
    "        print(file)\n",
    "        new_file = path+f\"/{next_dir}/\"+file.split(\"/\")[-1]\n",
    "        relevant_paragraphs,non_relevant_paragraphs = related_content_func(file,new_file,hyp)"
   ]
  },
  {
   "cell_type": "markdown",
   "id": "47eb0fad-96c0-4e7d-9744-baac8dca6485",
   "metadata": {},
   "source": [
    "## Rewrite the sentences"
   ]
  },
  {
   "cell_type": "code",
   "execution_count": 280,
   "id": "0a58439a-958f-4b21-a836-fa54a822ede5",
   "metadata": {},
   "outputs": [
    {
     "name": "stdout",
     "output_type": "stream",
     "text": [
      "h1\n",
      "huggingface/tokenizers: The current process just got forked, after parallelism has already been used. Disabling parallelism to avoid deadlocks...\n",
      "To disable this warning, you can either:\n",
      "\t- Avoid using `tokenizers` before the fork if possible\n",
      "\t- Explicitly set the environment variable TOKENIZERS_PARALLELISM=(true | false)\n",
      "h2\n",
      "huggingface/tokenizers: The current process just got forked, after parallelism has already been used. Disabling parallelism to avoid deadlocks...\n",
      "To disable this warning, you can either:\n",
      "\t- Avoid using `tokenizers` before the fork if possible\n",
      "\t- Explicitly set the environment variable TOKENIZERS_PARALLELISM=(true | false)\n",
      "h4\n",
      "huggingface/tokenizers: The current process just got forked, after parallelism has already been used. Disabling parallelism to avoid deadlocks...\n",
      "To disable this warning, you can either:\n",
      "\t- Avoid using `tokenizers` before the fork if possible\n",
      "\t- Explicitly set the environment variable TOKENIZERS_PARALLELISM=(true | false)\n",
      "h5\n",
      "huggingface/tokenizers: The current process just got forked, after parallelism has already been used. Disabling parallelism to avoid deadlocks...\n",
      "To disable this warning, you can either:\n",
      "\t- Avoid using `tokenizers` before the fork if possible\n",
      "\t- Explicitly set the environment variable TOKENIZERS_PARALLELISM=(true | false)\n"
     ]
    }
   ],
   "source": [
    "for dir in DIRS:\n",
    "    print(dir)\n",
    "    path = f\"{SRC_DIR}/{dir}\"\n",
    "    !mkdir $path/coref_resolved/$next_dir/rewritten"
   ]
  },
  {
   "cell_type": "code",
   "execution_count": 286,
   "id": "80d5f7eb-1b4d-415c-8ba6-e5d01b168820",
   "metadata": {},
   "outputs": [
    {
     "data": {
      "text/plain": [
       "4"
      ]
     },
     "execution_count": 286,
     "metadata": {},
     "output_type": "execute_result"
    }
   ],
   "source": [
    "old_files = files\n",
    "ix = old_files.index(file)\n",
    "ix"
   ]
  },
  {
   "cell_type": "code",
   "execution_count": 287,
   "id": "82018a1c-f0e7-4904-a526-a4e2e437028b",
   "metadata": {},
   "outputs": [],
   "source": [
    "files = files[ix:]"
   ]
  },
  {
   "cell_type": "code",
   "execution_count": 295,
   "id": "4d913be7-e40d-47da-b9be-2a84b1d71ab4",
   "metadata": {},
   "outputs": [
    {
     "data": {
      "text/plain": [
       "[]"
      ]
     },
     "execution_count": 295,
     "metadata": {},
     "output_type": "execute_result"
    }
   ],
   "source": [
    "rewrite_func = kg_generation.clean.get_rewrite_func2()\n",
    "sentences = rewrite_func(paragraph)\n",
    "sentences"
   ]
  },
  {
   "cell_type": "code",
   "execution_count": 296,
   "id": "8877dca9-9667-407e-a095-61034c46e9be",
   "metadata": {},
   "outputs": [],
   "source": [
    "old_files = files"
   ]
  },
  {
   "cell_type": "code",
   "execution_count": 297,
   "id": "0a737d9e-2fe7-4fb9-a821-2bbd2581c1c4",
   "metadata": {},
   "outputs": [],
   "source": [
    "ix = files.index(file)"
   ]
  },
  {
   "cell_type": "code",
   "execution_count": 298,
   "id": "e7128ac3-1b87-43bc-adff-323fe7bdd600",
   "metadata": {},
   "outputs": [],
   "source": [
    "files = files[ix:]"
   ]
  },
  {
   "cell_type": "code",
   "execution_count": 299,
   "id": "3749666b-9652-4433-b5a1-329cdc4c7691",
   "metadata": {},
   "outputs": [
    {
     "data": {
      "text/plain": [
       "['/mnt/clbp/lit_searches/hypotheses/h2/coref_resolved/related_hyp1/hyp2_52.pdf.json',\n",
       " '/mnt/clbp/lit_searches/hypotheses/h2/coref_resolved/related_hyp1/hyp2_53.pdf.json']"
      ]
     },
     "execution_count": 299,
     "metadata": {},
     "output_type": "execute_result"
    }
   ],
   "source": [
    "files"
   ]
  },
  {
   "cell_type": "code",
   "execution_count": 301,
   "id": "d661ddef-ab21-4b39-b54f-ec471559d5c8",
   "metadata": {
    "scrolled": true
   },
   "outputs": [
    {
     "name": "stdout",
     "output_type": "stream",
     "text": [
      "h4\n",
      "/mnt/clbp/lit_searches/hypotheses/h2/coref_resolved/related_hyp1/hyp2_52.pdf.json\n"
     ]
    },
    {
     "name": "stderr",
     "output_type": "stream",
     "text": [
      "\n",
      "KeyboardInterrupt\n",
      "\n"
     ]
    }
   ],
   "source": [
    "rewrite_func = kg_generation.clean.get_rewrite_func2()\n",
    "\n",
    "import time\n",
    "import io\n",
    "import glob\n",
    "\n",
    "min_num_words_in_paragraph = 3\n",
    "\n",
    "for dir in DIRS[2:]:\n",
    "    print(dir)\n",
    "    path = f\"{SRC_DIR}/{dir}/coref_resolved/{next_dir}\"\n",
    "    files = glob.glob(path + '/*.json')\n",
    "    changed_sentences = []\n",
    "    unchanged_sentences = []\n",
    "    for file in files:\n",
    "        print(file)\n",
    "        with open(file) as f:\n",
    "            contents = json.load(f)\n",
    "        field = 'text'\n",
    "        if field not in data:\n",
    "            field = 'contents'\n",
    "\n",
    "        output = []\n",
    "        paragraphs = contents[field].split(\"\\n\\n\")\n",
    "        for paragraph in paragraphs:\n",
    "            \n",
    "            output.append({\"input\": paragraph})\n",
    "            num_words = len(paragraph.split(\" \"))\n",
    "            if num_words < min_num_words_in_paragraph:\n",
    "                continue\n",
    "    \n",
    "            sentences = rewrite_func(paragraph)\n",
    "            output[-1].update({\"output\": sentences, \"help\": rewrite_func.__doc__})\n",
    "        new_file = path+\"/rewritten/\"+file.split(\"/\")[-1]\n",
    "        with open(new_file,\"w\") as f:\n",
    "            f.write(json.dumps(output))"
   ]
  },
  {
   "cell_type": "code",
   "execution_count": 302,
   "id": "bec837de-be9f-49da-8816-ab5fdd373303",
   "metadata": {},
   "outputs": [
    {
     "data": {
      "text/plain": [
       "['h1', 'h2', 'h4', 'h5']"
      ]
     },
     "execution_count": 302,
     "metadata": {},
     "output_type": "execute_result"
    }
   ],
   "source": [
    "DIRS "
   ]
  },
  {
   "cell_type": "markdown",
   "id": "b678e590-fde1-474c-b86b-c204de66f6c3",
   "metadata": {},
   "source": [
    "Next steps\n",
    "1. Coresolution analysis\n",
    "2. Relation extraction using Rebel"
   ]
  },
  {
   "cell_type": "markdown",
   "id": "257c3f09-64c2-4189-a2f9-8fdf5eaaff37",
   "metadata": {},
   "source": [
    "## Another coresolution analysis"
   ]
  },
  {
   "cell_type": "code",
   "execution_count": 305,
   "id": "0fec1fdd-dff9-4dd5-a00a-e989c4945811",
   "metadata": {},
   "outputs": [
    {
     "name": "stdout",
     "output_type": "stream",
     "text": [
      "h1\n",
      "/mnt/clbp/lit_searches/hypotheses/h1/coref_resolved/related_hyp1/rewritten\n",
      "huggingface/tokenizers: The current process just got forked, after parallelism has already been used. Disabling parallelism to avoid deadlocks...\n",
      "To disable this warning, you can either:\n",
      "\t- Avoid using `tokenizers` before the fork if possible\n",
      "\t- Explicitly set the environment variable TOKENIZERS_PARALLELISM=(true | false)\n",
      "h2\n",
      "/mnt/clbp/lit_searches/hypotheses/h2/coref_resolved/related_hyp1/rewritten\n",
      "huggingface/tokenizers: The current process just got forked, after parallelism has already been used. Disabling parallelism to avoid deadlocks...\n",
      "To disable this warning, you can either:\n",
      "\t- Avoid using `tokenizers` before the fork if possible\n",
      "\t- Explicitly set the environment variable TOKENIZERS_PARALLELISM=(true | false)\n"
     ]
    }
   ],
   "source": [
    "for dir in DIRS[:2]:\n",
    "    print(dir)\n",
    "    path = f\"{SRC_DIR}/{dir}/coref_resolved/{next_dir}/rewritten\"\n",
    "    print(path)\n",
    "    !mkdir $path/coref_resolved/"
   ]
  },
  {
   "cell_type": "code",
   "execution_count": 317,
   "id": "e514f654-4571-40af-98e0-210c8efd5f3a",
   "metadata": {},
   "outputs": [
    {
     "data": {
      "text/plain": [
       "{'input': ''}"
      ]
     },
     "execution_count": 317,
     "metadata": {},
     "output_type": "execute_result"
    }
   ],
   "source": [
    "data[0]"
   ]
  },
  {
   "cell_type": "code",
   "execution_count": 318,
   "id": "67a8503f-d74a-4fa1-a467-8342ac8fe683",
   "metadata": {
    "scrolled": true
   },
   "outputs": [
    {
     "name": "stdout",
     "output_type": "stream",
     "text": [
      "h1\n",
      "/mnt/clbp/lit_searches/hypotheses/h1/coref_resolved/related_hyp1/rewritten/hyp1_1.pdf.json\n",
      "/mnt/clbp/lit_searches/hypotheses/h1/coref_resolved/related_hyp1/rewritten/hyp1_26.pdf.json\n",
      "/mnt/clbp/lit_searches/hypotheses/h1/coref_resolved/related_hyp1/rewritten/hyp1_2.pdf.json\n",
      "/mnt/clbp/lit_searches/hypotheses/h1/coref_resolved/related_hyp1/rewritten/hyp1_30.pdf.json\n",
      "/mnt/clbp/lit_searches/hypotheses/h1/coref_resolved/related_hyp1/rewritten/hyp1_3.pdf.json\n",
      "/mnt/clbp/lit_searches/hypotheses/h1/coref_resolved/related_hyp1/rewritten/hyp1_36.pdf.json\n",
      "/mnt/clbp/lit_searches/hypotheses/h1/coref_resolved/related_hyp1/rewritten/hyp1_4.pdf.json\n",
      "/mnt/clbp/lit_searches/hypotheses/h1/coref_resolved/related_hyp1/rewritten/hyp1_5.pdf.json\n",
      "resolv_func error on text:\n",
      "\n",
      "\n",
      "skipping\n",
      "/mnt/clbp/lit_searches/hypotheses/h1/coref_resolved/related_hyp1/rewritten/hyp1_38.pdf.json\n",
      "resolv_func error on text:\n",
      "\n",
      "\n",
      "skipping\n",
      "resolv_func error on text:\n",
      "\n",
      "\n",
      "skipping\n",
      "/mnt/clbp/lit_searches/hypotheses/h1/coref_resolved/related_hyp1/rewritten/hyp1_6.pdf.json\n",
      "/mnt/clbp/lit_searches/hypotheses/h1/coref_resolved/related_hyp1/rewritten/hyp1_40.pdf.json\n",
      "/mnt/clbp/lit_searches/hypotheses/h1/coref_resolved/related_hyp1/rewritten/hyp1_7.pdf.json\n",
      "/mnt/clbp/lit_searches/hypotheses/h1/coref_resolved/related_hyp1/rewritten/hyp1_44.pdf.json\n",
      "resolv_func error on text:\n",
      "\n",
      "\n",
      "skipping\n",
      "resolv_func error on text:\n",
      "\n",
      "\n",
      "skipping\n",
      "resolv_func error on text:\n",
      "\n",
      "\n",
      "skipping\n",
      "resolv_func error on text:\n",
      "\n",
      "\n",
      "skipping\n",
      "resolv_func error on text:\n",
      "\n",
      "\n",
      "skipping\n",
      "/mnt/clbp/lit_searches/hypotheses/h1/coref_resolved/related_hyp1/rewritten/hyp1_8.pdf.json\n",
      "resolv_func error on text:\n",
      "\n",
      "\n",
      "skipping\n",
      "/mnt/clbp/lit_searches/hypotheses/h1/coref_resolved/related_hyp1/rewritten/chs_1.pdf.json\n",
      "/mnt/clbp/lit_searches/hypotheses/h1/coref_resolved/related_hyp1/rewritten/hyp1_9.pdf.json\n",
      "/mnt/clbp/lit_searches/hypotheses/h1/coref_resolved/related_hyp1/rewritten/hyp1_10.pdf.json\n",
      "/mnt/clbp/lit_searches/hypotheses/h1/coref_resolved/related_hyp1/rewritten/hyp1_11.pdf.json\n",
      "resolv_func error on text:\n",
      "\n",
      "\n",
      "skipping\n",
      "resolv_func error on text:\n",
      "\n",
      "\n",
      "skipping\n",
      "resolv_func error on text:\n",
      "\n",
      "\n",
      "skipping\n",
      "/mnt/clbp/lit_searches/hypotheses/h1/coref_resolved/related_hyp1/rewritten/hyp1_13.pdf.json\n",
      "resolv_func error on text:\n",
      "\n",
      "\n",
      "skipping\n",
      "/mnt/clbp/lit_searches/hypotheses/h1/coref_resolved/related_hyp1/rewritten/hyp1_14.pdf.json\n",
      "resolv_func error on text:\n",
      "\n",
      "\n",
      "skipping\n",
      "resolv_func error on text:\n",
      "\n",
      "\n",
      "skipping\n",
      "/mnt/clbp/lit_searches/hypotheses/h1/coref_resolved/related_hyp1/rewritten/hyp1_17.pdf.json\n",
      "/mnt/clbp/lit_searches/hypotheses/h1/coref_resolved/related_hyp1/rewritten/hyp1_18.pdf.json\n",
      "resolv_func error on text:\n",
      "\n",
      "\n",
      "skipping\n",
      "/mnt/clbp/lit_searches/hypotheses/h1/coref_resolved/related_hyp1/rewritten/hyp1_19.pdf.json\n",
      "/mnt/clbp/lit_searches/hypotheses/h1/coref_resolved/related_hyp1/rewritten/hyp1_46.pdf.json\n",
      "resolv_func error on text:\n",
      "\n",
      "\n",
      "skipping\n",
      "/mnt/clbp/lit_searches/hypotheses/h1/coref_resolved/related_hyp1/rewritten/hyp1_45.pdf.json\n",
      "resolv_func error on text:\n",
      "\n",
      "\n",
      "skipping\n",
      "/mnt/clbp/lit_searches/hypotheses/h1/coref_resolved/related_hyp1/rewritten/hyp1_21.pdf.json\n",
      "/mnt/clbp/lit_searches/hypotheses/h1/coref_resolved/related_hyp1/rewritten/hyp1_23.pdf.json\n",
      "resolv_func error on text:\n",
      "\n",
      "\n",
      "skipping\n",
      "resolv_func error on text:\n",
      "\n",
      "\n",
      "skipping\n",
      "resolv_func error on text:\n",
      "\n",
      "\n",
      "skipping\n",
      "resolv_func error on text:\n",
      "\n",
      "\n",
      "skipping\n",
      "resolv_func error on text:\n",
      "\n",
      "\n",
      "skipping\n",
      "/mnt/clbp/lit_searches/hypotheses/h1/coref_resolved/related_hyp1/rewritten/hyp1_24.pdf.json\n",
      "resolv_func error on text:\n",
      "\n",
      "\n",
      "skipping\n",
      "/mnt/clbp/lit_searches/hypotheses/h1/coref_resolved/related_hyp1/rewritten/hyp1_28.pdf.json\n",
      "/mnt/clbp/lit_searches/hypotheses/h1/coref_resolved/related_hyp1/rewritten/hyp1_29.pdf.json\n",
      "/mnt/clbp/lit_searches/hypotheses/h1/coref_resolved/related_hyp1/rewritten/hyp1_34.pdf.json\n",
      "/mnt/clbp/lit_searches/hypotheses/h1/coref_resolved/related_hyp1/rewritten/hyp1_32.pdf.json\n",
      "/mnt/clbp/lit_searches/hypotheses/h1/coref_resolved/related_hyp1/rewritten/hyp1_41.pdf.json\n",
      "/mnt/clbp/lit_searches/hypotheses/h1/coref_resolved/related_hyp1/rewritten/hyp1_37.pdf.json\n",
      "/mnt/clbp/lit_searches/hypotheses/h1/coref_resolved/related_hyp1/rewritten/hyp1_22.pdf.json\n",
      "/mnt/clbp/lit_searches/hypotheses/h1/coref_resolved/related_hyp1/rewritten/hyp1_27.pdf.json\n",
      "/mnt/clbp/lit_searches/hypotheses/h1/coref_resolved/related_hyp1/rewritten/hyp1_25.pdf.json\n",
      "resolv_func error on text:\n",
      "\n",
      "\n",
      "skipping\n",
      "/mnt/clbp/lit_searches/hypotheses/h1/coref_resolved/related_hyp1/rewritten/hyp1_39.pdf.json\n",
      "/mnt/clbp/lit_searches/hypotheses/h1/coref_resolved/related_hyp1/rewritten/hyp1_43.pdf.json\n",
      "resolv_func error on text:\n",
      "\n",
      "\n",
      "skipping\n",
      "/mnt/clbp/lit_searches/hypotheses/h1/coref_resolved/related_hyp1/rewritten/hyp1_47.pdf.json\n",
      "/mnt/clbp/lit_searches/hypotheses/h1/coref_resolved/related_hyp1/rewritten/hyp1_33.pdf.json\n",
      "resolv_func error on text:\n",
      "\n",
      "\n",
      "skipping\n",
      "h2\n",
      "/mnt/clbp/lit_searches/hypotheses/h2/coref_resolved/related_hyp1/rewritten/hyp2_1.pdf.json\n",
      "/mnt/clbp/lit_searches/hypotheses/h2/coref_resolved/related_hyp1/rewritten/hyp2_2.pdf.json\n",
      "/mnt/clbp/lit_searches/hypotheses/h2/coref_resolved/related_hyp1/rewritten/hyp2_4.pdf.json\n",
      "/mnt/clbp/lit_searches/hypotheses/h2/coref_resolved/related_hyp1/rewritten/hyp2_5.pdf.json\n",
      "/mnt/clbp/lit_searches/hypotheses/h2/coref_resolved/related_hyp1/rewritten/hyp2_6.pdf.json\n",
      "resolv_func error on text:\n",
      "\n",
      "\n",
      "skipping\n",
      "/mnt/clbp/lit_searches/hypotheses/h2/coref_resolved/related_hyp1/rewritten/hyp2_7.pdf.json\n",
      "resolv_func error on text:\n",
      "\n",
      "\n",
      "skipping\n",
      "/mnt/clbp/lit_searches/hypotheses/h2/coref_resolved/related_hyp1/rewritten/hyp2_8.pdf.json\n",
      "/mnt/clbp/lit_searches/hypotheses/h2/coref_resolved/related_hyp1/rewritten/hyp2_9.pdf.json\n",
      "/mnt/clbp/lit_searches/hypotheses/h2/coref_resolved/related_hyp1/rewritten/hyp2_10.pdf.json\n",
      "/mnt/clbp/lit_searches/hypotheses/h2/coref_resolved/related_hyp1/rewritten/hyp2_11.pdf.json\n",
      "/mnt/clbp/lit_searches/hypotheses/h2/coref_resolved/related_hyp1/rewritten/hyp2_12.pdf.json\n",
      "/mnt/clbp/lit_searches/hypotheses/h2/coref_resolved/related_hyp1/rewritten/hyp2_13.pdf.json\n",
      "resolv_func error on text:\n",
      "\n",
      "\n",
      "skipping\n",
      "resolv_func error on text:\n",
      "\n",
      "\n",
      "skipping\n",
      "resolv_func error on text:\n",
      "\n",
      "\n",
      "skipping\n",
      "/mnt/clbp/lit_searches/hypotheses/h2/coref_resolved/related_hyp1/rewritten/hyp2_14.pdf.json\n",
      "resolv_func error on text:\n",
      "\n",
      "\n",
      "skipping\n",
      "/mnt/clbp/lit_searches/hypotheses/h2/coref_resolved/related_hyp1/rewritten/hyp2_15.pdf.json\n",
      "resolv_func error on text:\n",
      "\n",
      "\n",
      "skipping\n",
      "resolv_func error on text:\n",
      "\n",
      "\n",
      "skipping\n",
      "/mnt/clbp/lit_searches/hypotheses/h2/coref_resolved/related_hyp1/rewritten/hyp2_16.pdf.json\n",
      "/mnt/clbp/lit_searches/hypotheses/h2/coref_resolved/related_hyp1/rewritten/hyp2_17.pdf.json\n",
      "resolv_func error on text:\n",
      "\n",
      "\n",
      "skipping\n",
      "/mnt/clbp/lit_searches/hypotheses/h2/coref_resolved/related_hyp1/rewritten/hyp2_18.pdf.json\n",
      "resolv_func error on text:\n",
      "\n",
      "\n",
      "skipping\n",
      "resolv_func error on text:\n",
      "\n",
      "\n",
      "skipping\n",
      "resolv_func error on text:\n",
      "\n",
      "\n",
      "skipping\n",
      "resolv_func error on text:\n",
      "\n",
      "\n",
      "skipping\n",
      "/mnt/clbp/lit_searches/hypotheses/h2/coref_resolved/related_hyp1/rewritten/hyp2_19.pdf.json\n",
      "/mnt/clbp/lit_searches/hypotheses/h2/coref_resolved/related_hyp1/rewritten/hyp2_20.pdf.json\n",
      "resolv_func error on text:\n",
      "\n",
      "\n",
      "skipping\n",
      "/mnt/clbp/lit_searches/hypotheses/h2/coref_resolved/related_hyp1/rewritten/hyp2_21.pdf.json\n",
      "/mnt/clbp/lit_searches/hypotheses/h2/coref_resolved/related_hyp1/rewritten/hyp2_22.pdf.json\n",
      "/mnt/clbp/lit_searches/hypotheses/h2/coref_resolved/related_hyp1/rewritten/hyp2_23.pdf.json\n",
      "resolv_func error on text:\n",
      "\n",
      "\n",
      "skipping\n",
      "/mnt/clbp/lit_searches/hypotheses/h2/coref_resolved/related_hyp1/rewritten/hyp2_24.pdf.json\n",
      "resolv_func error on text:\n",
      "\n",
      "\n",
      "skipping\n",
      "/mnt/clbp/lit_searches/hypotheses/h2/coref_resolved/related_hyp1/rewritten/hyp2_25.pdf.json\n",
      "resolv_func error on text:\n",
      "\n",
      "\n",
      "skipping\n",
      "resolv_func error on text:\n",
      "\n",
      "\n",
      "skipping\n",
      "resolv_func error on text:\n",
      "\n",
      "\n",
      "skipping\n",
      "/mnt/clbp/lit_searches/hypotheses/h2/coref_resolved/related_hyp1/rewritten/hyp2_26.pdf.json\n",
      "/mnt/clbp/lit_searches/hypotheses/h2/coref_resolved/related_hyp1/rewritten/hyp2_27.pdf.json\n",
      "/mnt/clbp/lit_searches/hypotheses/h2/coref_resolved/related_hyp1/rewritten/hyp2_28.pdf.json\n",
      "/mnt/clbp/lit_searches/hypotheses/h2/coref_resolved/related_hyp1/rewritten/hyp2_29.pdf.json\n",
      "resolv_func error on text:\n",
      "\n",
      "\n",
      "skipping\n",
      "resolv_func error on text:\n",
      "\n",
      "\n",
      "skipping\n",
      "resolv_func error on text:\n",
      "\n",
      "\n",
      "skipping\n",
      "resolv_func error on text:\n",
      "\n",
      "\n",
      "skipping\n",
      "/mnt/clbp/lit_searches/hypotheses/h2/coref_resolved/related_hyp1/rewritten/hyp2_30.pdf.json\n",
      "/mnt/clbp/lit_searches/hypotheses/h2/coref_resolved/related_hyp1/rewritten/hyp2_31.pdf.json\n",
      "resolv_func error on text:\n",
      "\n",
      "\n",
      "skipping\n",
      "/mnt/clbp/lit_searches/hypotheses/h2/coref_resolved/related_hyp1/rewritten/hyp2_32.pdf.json\n",
      "/mnt/clbp/lit_searches/hypotheses/h2/coref_resolved/related_hyp1/rewritten/hyp2_33.pdf.json\n",
      "resolv_func error on text:\n",
      "\n",
      "\n",
      "skipping\n",
      "resolv_func error on text:\n",
      "\n",
      "\n",
      "skipping\n",
      "/mnt/clbp/lit_searches/hypotheses/h2/coref_resolved/related_hyp1/rewritten/hyp2_35.pdf.json\n",
      "resolv_func error on text:\n",
      "\n",
      "\n",
      "skipping\n",
      "resolv_func error on text:\n",
      "\n",
      "\n",
      "skipping\n",
      "resolv_func error on text:\n",
      "\n",
      "\n",
      "skipping\n",
      "/mnt/clbp/lit_searches/hypotheses/h2/coref_resolved/related_hyp1/rewritten/hyp2_36.pdf.json\n",
      "resolv_func error on text:\n",
      "\n",
      "\n",
      "skipping\n",
      "resolv_func error on text:\n",
      "\n",
      "\n",
      "skipping\n",
      "resolv_func error on text:\n",
      "\n",
      "\n",
      "skipping\n",
      "resolv_func error on text:\n",
      "\n",
      "\n",
      "skipping\n",
      "/mnt/clbp/lit_searches/hypotheses/h2/coref_resolved/related_hyp1/rewritten/hyp2_37.pdf.json\n",
      "resolv_func error on text:\n",
      "\n",
      "\n",
      "skipping\n",
      "resolv_func error on text:\n",
      "\n",
      "\n",
      "skipping\n",
      "/mnt/clbp/lit_searches/hypotheses/h2/coref_resolved/related_hyp1/rewritten/hyp2_38.pdf.json\n",
      "resolv_func error on text:\n",
      "\n",
      "\n",
      "skipping\n",
      "resolv_func error on text:\n",
      "\n",
      "\n",
      "skipping\n",
      "/mnt/clbp/lit_searches/hypotheses/h2/coref_resolved/related_hyp1/rewritten/hyp2_40.pdf.json\n",
      "resolv_func error on text:\n",
      "\n",
      "\n",
      "skipping\n",
      "resolv_func error on text:\n",
      "\n",
      "\n",
      "skipping\n",
      "/mnt/clbp/lit_searches/hypotheses/h2/coref_resolved/related_hyp1/rewritten/hyp2_41.pdf.json\n",
      "resolv_func error on text:\n",
      "\n",
      "\n",
      "skipping\n",
      "resolv_func error on text:\n",
      "\n",
      "\n",
      "skipping\n",
      "resolv_func error on text:\n",
      "\n",
      "\n",
      "skipping\n",
      "/mnt/clbp/lit_searches/hypotheses/h2/coref_resolved/related_hyp1/rewritten/hyp2_42.pdf.json\n",
      "resolv_func error on text:\n",
      "\n",
      "\n",
      "skipping\n",
      "resolv_func error on text:\n",
      "\n",
      "\n",
      "skipping\n",
      "/mnt/clbp/lit_searches/hypotheses/h2/coref_resolved/related_hyp1/rewritten/hyp2_43.pdf.json\n",
      "resolv_func error on text:\n",
      "\n",
      "\n",
      "skipping\n",
      "/mnt/clbp/lit_searches/hypotheses/h2/coref_resolved/related_hyp1/rewritten/hyp2_44.pdf.json\n",
      "resolv_func error on text:\n",
      "\n",
      "\n",
      "skipping\n",
      "resolv_func error on text:\n",
      "\n",
      "\n",
      "skipping\n",
      "/mnt/clbp/lit_searches/hypotheses/h2/coref_resolved/related_hyp1/rewritten/hyp2_45.pdf.json\n",
      "resolv_func error on text:\n",
      "\n",
      "\n",
      "skipping\n",
      "resolv_func error on text:\n",
      "\n",
      "\n",
      "skipping\n",
      "/mnt/clbp/lit_searches/hypotheses/h2/coref_resolved/related_hyp1/rewritten/hyp2_46.pdf.json\n",
      "/mnt/clbp/lit_searches/hypotheses/h2/coref_resolved/related_hyp1/rewritten/hyp2_47.pdf.json\n",
      "/mnt/clbp/lit_searches/hypotheses/h2/coref_resolved/related_hyp1/rewritten/hyp2_48.pdf.json\n",
      "resolv_func error on text:\n",
      "\n",
      "\n",
      "skipping\n",
      "resolv_func error on text:\n",
      "\n",
      "\n",
      "skipping\n",
      "/mnt/clbp/lit_searches/hypotheses/h2/coref_resolved/related_hyp1/rewritten/hyp2_49.pdf.json\n",
      "/mnt/clbp/lit_searches/hypotheses/h2/coref_resolved/related_hyp1/rewritten/hyp2_50.pdf.json\n",
      "/mnt/clbp/lit_searches/hypotheses/h2/coref_resolved/related_hyp1/rewritten/hyp2_51.pdf.json\n",
      "/mnt/clbp/lit_searches/hypotheses/h2/coref_resolved/related_hyp1/rewritten/hyp2_52.pdf.json\n",
      "resolv_func error on text:\n",
      "\n",
      "\n",
      "skipping\n",
      "resolv_func error on text:\n",
      "\n",
      "\n",
      "skipping\n",
      "resolv_func error on text:\n",
      "\n",
      "\n",
      "skipping\n",
      "resolv_func error on text:\n",
      "\n",
      "\n",
      "skipping\n",
      "resolv_func error on text:\n",
      "\n",
      "\n",
      "skipping\n",
      "resolv_func error on text:\n",
      "\n",
      "\n",
      "skipping\n",
      "resolv_func error on text:\n",
      "\n",
      "\n",
      "skipping\n",
      "resolv_func error on text:\n",
      "\n",
      "\n",
      "skipping\n",
      "resolv_func error on text:\n",
      "\n",
      "\n",
      "skipping\n",
      "resolv_func error on text:\n",
      "\n",
      "\n",
      "skipping\n",
      "resolv_func error on text:\n",
      "\n",
      "\n",
      "skipping\n",
      "resolv_func error on text:\n",
      "\n",
      "\n",
      "skipping\n",
      "resolv_func error on text:\n",
      "\n",
      "\n",
      "skipping\n",
      "resolv_func error on text:\n",
      "\n",
      "\n",
      "skipping\n",
      "resolv_func error on text:\n",
      "\n",
      "\n",
      "skipping\n",
      "resolv_func error on text:\n",
      "\n",
      "\n",
      "skipping\n",
      "resolv_func error on text:\n",
      "\n",
      "\n",
      "skipping\n",
      "resolv_func error on text:\n",
      "\n",
      "\n",
      "skipping\n",
      "resolv_func error on text:\n",
      "\n",
      "\n",
      "skipping\n",
      "resolv_func error on text:\n",
      "\n",
      "\n",
      "skipping\n",
      "resolv_func error on text:\n",
      "\n",
      "\n",
      "skipping\n",
      "resolv_func error on text:\n",
      "\n",
      "\n",
      "skipping\n",
      "resolv_func error on text:\n",
      "\n",
      "\n",
      "skipping\n",
      "resolv_func error on text:\n",
      "\n",
      "\n",
      "skipping\n",
      "resolv_func error on text:\n",
      "\n",
      "\n",
      "skipping\n",
      "resolv_func error on text:\n",
      "\n",
      "\n",
      "skipping\n",
      "/mnt/clbp/lit_searches/hypotheses/h2/coref_resolved/related_hyp1/rewritten/hyp2_53.pdf.json\n",
      "h4\n",
      "h5\n"
     ]
    }
   ],
   "source": [
    "for dir in DIRS:\n",
    "    print(dir)\n",
    "    #path = f\"{SRC_DIR}/{dir}\"\n",
    "    path = f\"{SRC_DIR}/{dir}/coref_resolved/{next_dir}/rewritten\"\n",
    "    files = glob.glob(path + '/*.json')\n",
    "    changed_sentences = []\n",
    "    unchanged_sentences = []\n",
    "    for file in files:\n",
    "        print(file)\n",
    "        with open(file) as f:\n",
    "            data = json.load(f)\n",
    "        for i in range(len(data)):\n",
    "            if not ('output' in data[i]):\n",
    "                continue\n",
    "            text = \" \".join(data[i]['output'])\n",
    "            try:\n",
    "                text2,from_text,to_text = resolv_func(text)\n",
    "            except:\n",
    "                print(\"resolv_func error on text:\")\n",
    "                print(text)\n",
    "                to_text = text\n",
    "                print(\"\\nskipping\")\n",
    "                continue\n",
    "            data[i]['input'] = data[i]['output']\n",
    "            data[i]['output'] = to_text\n",
    "            \n",
    "        new_file = path+\"/coref_resolved/\"+file.split(\"/\")[-1]\n",
    "        with open(new_file,\"w\") as f:\n",
    "            f.write(json.dumps(data))"
   ]
  },
  {
   "cell_type": "markdown",
   "id": "a649fe41-913a-4b99-9762-ef1216af6700",
   "metadata": {},
   "source": [
    "## Extract triples"
   ]
  },
  {
   "cell_type": "code",
   "execution_count": 49,
   "id": "3c1c07c0-4052-474d-b857-4da35b61bf0f",
   "metadata": {},
   "outputs": [
    {
     "name": "stderr",
     "output_type": "stream",
     "text": [
      "Special tokens have been added in the vocabulary, make sure the associated word embeddings are fine-tuned or trained.\n"
     ]
    }
   ],
   "source": [
    "rel_ext = kg_generation.extract.get_rel_pipeline(DEVICE=0)"
   ]
  },
  {
   "cell_type": "code",
   "execution_count": 53,
   "id": "59169364-6d56-44dc-863f-4cd28f0aa51e",
   "metadata": {},
   "outputs": [
    {
     "name": "stdout",
     "output_type": "stream",
     "text": [
      "[{'generated_token_ids': tensor([    0, 50267,  1206,  1437, 50266,  1204,  1437, 50265,  8850,     2])}]\n"
     ]
    }
   ],
   "source": [
    "doc = rel_ext(\"Paul works for Google\")"
   ]
  },
  {
   "cell_type": "code",
   "execution_count": 54,
   "id": "58b882b4-d38f-41d7-a8d5-89f2e8e76236",
   "metadata": {},
   "outputs": [
    {
     "data": {
      "text/plain": [
       "spacy.tokens.doc.Doc"
      ]
     },
     "execution_count": 54,
     "metadata": {},
     "output_type": "execute_result"
    }
   ],
   "source": [
    "type(output)"
   ]
  },
  {
   "cell_type": "code",
   "execution_count": 55,
   "id": "9a7621fa-705c-474a-8b8f-747a2c434043",
   "metadata": {},
   "outputs": [
    {
     "name": "stdout",
     "output_type": "stream",
     "text": [
      "Subject: Paul\n",
      "Verb: employer\n",
      "Object: Google\n"
     ]
    }
   ],
   "source": [
    "params = [rel_dict for value, rel_dict in doc._.rel.items()]\n",
    "for triplet in params:\n",
    "    subject,verb,object = triplet['head_span']['text'],triplet['relation'],triplet['tail_span']['text']\n",
    "    print(\"Subject:\",subject)\n",
    "    print(\"Verb:\",verb)\n",
    "    print(\"Object:\",object)"
   ]
  },
  {
   "cell_type": "code",
   "execution_count": 58,
   "id": "32ec2171-87a1-474c-aa46-cfdc5d674b6c",
   "metadata": {},
   "outputs": [
    {
     "name": "stdout",
     "output_type": "stream",
     "text": [
      "h1\n",
      "/mnt/clbp/lit_searches/hypotheses/h1/coref_resolved/related_hyp1/rewritten/coref_resolved/\n",
      "h2\n",
      "/mnt/clbp/lit_searches/hypotheses/h2/coref_resolved/related_hyp1/rewritten/coref_resolved/\n"
     ]
    }
   ],
   "source": [
    "for dir in DIRS[:2]:\n",
    "    print(dir)\n",
    "    path = f\"{SRC_DIR}/{dir}/coref_resolved/{next_dir}/rewritten/coref_resolved/\"\n",
    "    print(path)\n",
    "    !mkdir $path/triplets/"
   ]
  },
  {
   "cell_type": "code",
   "execution_count": null,
   "id": "c42b2fda-6f97-4a22-a53d-8ec32ccd4ba2",
   "metadata": {
    "scrolled": true
   },
   "outputs": [
    {
     "name": "stdout",
     "output_type": "stream",
     "text": [
      "h1\n",
      "/mnt/clbp/lit_searches/hypotheses/h1/coref_resolved/related_hyp1/rewritten/coref_resolved/hyp1_1.pdf.json\n",
      "/mnt/clbp/lit_searches/hypotheses/h1/coref_resolved/related_hyp1/rewritten/coref_resolved/hyp1_26.pdf.json\n",
      "/mnt/clbp/lit_searches/hypotheses/h1/coref_resolved/related_hyp1/rewritten/coref_resolved/hyp1_2.pdf.json\n",
      "/mnt/clbp/lit_searches/hypotheses/h1/coref_resolved/related_hyp1/rewritten/coref_resolved/hyp1_30.pdf.json\n",
      "/mnt/clbp/lit_searches/hypotheses/h1/coref_resolved/related_hyp1/rewritten/coref_resolved/hyp1_3.pdf.json\n",
      "/mnt/clbp/lit_searches/hypotheses/h1/coref_resolved/related_hyp1/rewritten/coref_resolved/hyp1_36.pdf.json\n",
      "/mnt/clbp/lit_searches/hypotheses/h1/coref_resolved/related_hyp1/rewritten/coref_resolved/hyp1_4.pdf.json\n",
      "/mnt/clbp/lit_searches/hypotheses/h1/coref_resolved/related_hyp1/rewritten/coref_resolved/hyp1_5.pdf.json\n",
      "/mnt/clbp/lit_searches/hypotheses/h1/coref_resolved/related_hyp1/rewritten/coref_resolved/hyp1_38.pdf.json\n",
      "Failed on [missing information].\n",
      "/mnt/clbp/lit_searches/hypotheses/h1/coref_resolved/related_hyp1/rewritten/coref_resolved/hyp1_6.pdf.json\n",
      "/mnt/clbp/lit_searches/hypotheses/h1/coref_resolved/related_hyp1/rewritten/coref_resolved/hyp1_40.pdf.json\n",
      "/mnt/clbp/lit_searches/hypotheses/h1/coref_resolved/related_hyp1/rewritten/coref_resolved/hyp1_7.pdf.json\n",
      "/mnt/clbp/lit_searches/hypotheses/h1/coref_resolved/related_hyp1/rewritten/coref_resolved/hyp1_44.pdf.json\n",
      "/mnt/clbp/lit_searches/hypotheses/h1/coref_resolved/related_hyp1/rewritten/coref_resolved/hyp1_8.pdf.json\n",
      "/mnt/clbp/lit_searches/hypotheses/h1/coref_resolved/related_hyp1/rewritten/coref_resolved/chs_1.pdf.json\n",
      "/mnt/clbp/lit_searches/hypotheses/h1/coref_resolved/related_hyp1/rewritten/coref_resolved/hyp1_9.pdf.json\n",
      "Failed on The reference for this information is [24].\n",
      "/mnt/clbp/lit_searches/hypotheses/h1/coref_resolved/related_hyp1/rewritten/coref_resolved/hyp1_10.pdf.json\n",
      "/mnt/clbp/lit_searches/hypotheses/h1/coref_resolved/related_hyp1/rewritten/coref_resolved/hyp1_11.pdf.json\n",
      "/mnt/clbp/lit_searches/hypotheses/h1/coref_resolved/related_hyp1/rewritten/coref_resolved/hyp1_13.pdf.json\n",
      "/mnt/clbp/lit_searches/hypotheses/h1/coref_resolved/related_hyp1/rewritten/coref_resolved/hyp1_14.pdf.json\n",
      "/mnt/clbp/lit_searches/hypotheses/h1/coref_resolved/related_hyp1/rewritten/coref_resolved/hyp1_17.pdf.json\n",
      "Failed on Answering a 5-point transition question (How are you feeling now (according to your pain problem) compared with when you started treatment?) with little worse or much worse as a change for the worse [27].\n",
      "/mnt/clbp/lit_searches/hypotheses/h1/coref_resolved/related_hyp1/rewritten/coref_resolved/hyp1_18.pdf.json\n",
      "/mnt/clbp/lit_searches/hypotheses/h1/coref_resolved/related_hyp1/rewritten/coref_resolved/hyp1_19.pdf.json\n",
      "Failed on The reference for this information is [35].\n",
      "Failed on A recent study was referenced as [14].\n",
      "/mnt/clbp/lit_searches/hypotheses/h1/coref_resolved/related_hyp1/rewritten/coref_resolved/hyp1_46.pdf.json\n",
      "/mnt/clbp/lit_searches/hypotheses/h1/coref_resolved/related_hyp1/rewritten/coref_resolved/hyp1_45.pdf.json\n",
      "/mnt/clbp/lit_searches/hypotheses/h1/coref_resolved/related_hyp1/rewritten/coref_resolved/hyp1_21.pdf.json\n",
      "Failed on This is seen in examples such as [32].\n",
      "Failed on the two primary coders had one or more items of disagreement.\n",
      "Failed on An exception to the consistency can be seen in another study (see [88]).\n",
      "/mnt/clbp/lit_searches/hypotheses/h1/coref_resolved/related_hyp1/rewritten/coref_resolved/hyp1_23.pdf.json\n",
      "/mnt/clbp/lit_searches/hypotheses/h1/coref_resolved/related_hyp1/rewritten/coref_resolved/hyp1_24.pdf.json\n",
      "/mnt/clbp/lit_searches/hypotheses/h1/coref_resolved/related_hyp1/rewritten/coref_resolved/hyp1_28.pdf.json\n",
      "/mnt/clbp/lit_searches/hypotheses/h1/coref_resolved/related_hyp1/rewritten/coref_resolved/hyp1_29.pdf.json\n",
      "/mnt/clbp/lit_searches/hypotheses/h1/coref_resolved/related_hyp1/rewritten/coref_resolved/hyp1_34.pdf.json\n",
      "/mnt/clbp/lit_searches/hypotheses/h1/coref_resolved/related_hyp1/rewritten/coref_resolved/hyp1_32.pdf.json\n",
      "/mnt/clbp/lit_searches/hypotheses/h1/coref_resolved/related_hyp1/rewritten/coref_resolved/hyp1_41.pdf.json\n",
      "/mnt/clbp/lit_searches/hypotheses/h1/coref_resolved/related_hyp1/rewritten/coref_resolved/hyp1_37.pdf.json\n",
      "/mnt/clbp/lit_searches/hypotheses/h1/coref_resolved/related_hyp1/rewritten/coref_resolved/hyp1_22.pdf.json\n",
      "/mnt/clbp/lit_searches/hypotheses/h1/coref_resolved/related_hyp1/rewritten/coref_resolved/hyp1_27.pdf.json\n",
      "/mnt/clbp/lit_searches/hypotheses/h1/coref_resolved/related_hyp1/rewritten/coref_resolved/hyp1_25.pdf.json\n",
      "/mnt/clbp/lit_searches/hypotheses/h1/coref_resolved/related_hyp1/rewritten/coref_resolved/hyp1_39.pdf.json\n",
      "Failed on F{14, 13) was 2.24.\n",
      "/mnt/clbp/lit_searches/hypotheses/h1/coref_resolved/related_hyp1/rewritten/coref_resolved/hyp1_43.pdf.json\n",
      "/mnt/clbp/lit_searches/hypotheses/h1/coref_resolved/related_hyp1/rewritten/coref_resolved/hyp1_47.pdf.json\n",
      "/mnt/clbp/lit_searches/hypotheses/h1/coref_resolved/related_hyp1/rewritten/coref_resolved/hyp1_33.pdf.json\n",
      "h2\n",
      "/mnt/clbp/lit_searches/hypotheses/h2/coref_resolved/related_hyp1/rewritten/coref_resolved/hyp2_1.pdf.json\n",
      "/mnt/clbp/lit_searches/hypotheses/h2/coref_resolved/related_hyp1/rewritten/coref_resolved/hyp2_2.pdf.json\n",
      "/mnt/clbp/lit_searches/hypotheses/h2/coref_resolved/related_hyp1/rewritten/coref_resolved/hyp2_4.pdf.json\n",
      "/mnt/clbp/lit_searches/hypotheses/h2/coref_resolved/related_hyp1/rewritten/coref_resolved/hyp2_5.pdf.json\n",
      "Failed on [missing information].\n",
      "/mnt/clbp/lit_searches/hypotheses/h2/coref_resolved/related_hyp1/rewritten/coref_resolved/hyp2_6.pdf.json\n",
      "Failed on The source for this information is [57].\n",
      "/mnt/clbp/lit_searches/hypotheses/h2/coref_resolved/related_hyp1/rewritten/coref_resolved/hyp2_7.pdf.json\n",
      "/mnt/clbp/lit_searches/hypotheses/h2/coref_resolved/related_hyp1/rewritten/coref_resolved/hyp2_8.pdf.json\n",
      "/mnt/clbp/lit_searches/hypotheses/h2/coref_resolved/related_hyp1/rewritten/coref_resolved/hyp2_9.pdf.json\n",
      "/mnt/clbp/lit_searches/hypotheses/h2/coref_resolved/related_hyp1/rewritten/coref_resolved/hyp2_10.pdf.json\n",
      "/mnt/clbp/lit_searches/hypotheses/h2/coref_resolved/related_hyp1/rewritten/coref_resolved/hyp2_11.pdf.json\n",
      "Failed on The term H(co)- H(coIw\") refers to the information.\n",
      "Failed on The term H(op')-H(co'](o) represents information.\n",
      "Failed on (iv) ~e~(t+ zF,) belongs to at.\n",
      "/mnt/clbp/lit_searches/hypotheses/h2/coref_resolved/related_hyp1/rewritten/coref_resolved/hyp2_12.pdf.json\n",
      "/mnt/clbp/lit_searches/hypotheses/h2/coref_resolved/related_hyp1/rewritten/coref_resolved/hyp2_13.pdf.json\n",
      "/mnt/clbp/lit_searches/hypotheses/h2/coref_resolved/related_hyp1/rewritten/coref_resolved/hyp2_14.pdf.json\n",
      "/mnt/clbp/lit_searches/hypotheses/h2/coref_resolved/related_hyp1/rewritten/coref_resolved/hyp2_15.pdf.json\n",
      "Failed on The reference for this information is [16].\n",
      "Failed on many possible strategies are referenced as [15].\n",
      "Failed on A person must not walk off the front end of a treadmill, which is +LTM/2.\n",
      "Failed on an equality constraint is [16,46].\n",
      "Failed on The reference for this information is [16].\n",
      "Failed on The reference for this information is [31].\n",
      "Failed on The references for This work are [15,20] and [16].\n",
      "Failed on Plausible alternatives were previously discussed in [16].\n",
      "/mnt/clbp/lit_searches/hypotheses/h2/coref_resolved/related_hyp1/rewritten/coref_resolved/hyp2_16.pdf.json\n",
      "Failed on the GEM is independent of how data points representing individual strides are distributed within the [Tn, Ln] plane.\n",
      "Failed on The ability is to fully exploit the redundancy of [Tn, Ln].\n",
      "Failed on The reference for this information is [62].\n",
      "/mnt/clbp/lit_searches/hypotheses/h2/coref_resolved/related_hyp1/rewritten/coref_resolved/hyp2_17.pdf.json\n",
      "Failed on The reference for this information is [36].\n",
      "/mnt/clbp/lit_searches/hypotheses/h2/coref_resolved/related_hyp1/rewritten/coref_resolved/hyp2_18.pdf.json\n",
      "Failed on The score is +1.24 higher.\n",
      "/mnt/clbp/lit_searches/hypotheses/h2/coref_resolved/related_hyp1/rewritten/coref_resolved/hyp2_19.pdf.json\n",
      "/mnt/clbp/lit_searches/hypotheses/h2/coref_resolved/related_hyp1/rewritten/coref_resolved/hyp2_20.pdf.json\n",
      "/mnt/clbp/lit_searches/hypotheses/h2/coref_resolved/related_hyp1/rewritten/coref_resolved/hyp2_21.pdf.json\n",
      "/mnt/clbp/lit_searches/hypotheses/h2/coref_resolved/related_hyp1/rewritten/coref_resolved/hyp2_22.pdf.json\n",
      "/mnt/clbp/lit_searches/hypotheses/h2/coref_resolved/related_hyp1/rewritten/coref_resolved/hyp2_23.pdf.json\n"
     ]
    }
   ],
   "source": [
    "import spacy\n",
    "nlp = spacy.load(\"en_core_web_lg\")\n",
    "\n",
    "for dir in DIRS:\n",
    "    print(dir)\n",
    "    #path = f\"{SRC_DIR}/{dir}\"\n",
    "    path = f\"{SRC_DIR}/{dir}/coref_resolved/{next_dir}/rewritten/coref_resolved\"\n",
    "    files = glob.glob(path + '/*.json')\n",
    "    changed_sentences = []\n",
    "    unchanged_sentences = []\n",
    "    for file in files:\n",
    "        print(file)\n",
    "        with open(file) as f:\n",
    "            data = json.load(f)\n",
    "        for i in range(len(data)):\n",
    "            if not ('output' in data[i]):\n",
    "                continue\n",
    "            text = data[i]['output']\n",
    "            doc = nlp(text)\n",
    "            sents = list(doc.sents)\n",
    "            outputs = []\n",
    "            for sent in sents:\n",
    "                sent = str(sent)\n",
    "                outputs.append({\"sent\":sent,\"triplets\":[]})\n",
    "                results = outputs[-1]\n",
    "                try:\n",
    "                    extracted_doc = rel_ext(sent)\n",
    "                    params = [rel_dict for value, rel_dict in extracted_doc._.rel.items()]\n",
    "                    for triplet in params:\n",
    "                        subject,verb,object = triplet['head_span']['text'],triplet['relation'],triplet['tail_span']['text']\n",
    "                        results[\"triplets\"].append({\"head\":subject,\"relation\":verb,\"tail\":object})\n",
    "                except:\n",
    "                    print(\"Failed on\",sent)\n",
    "                    \n",
    "            data[i]['input'] = data[i]['output']\n",
    "            data[i]['output'] = outputs\n",
    "            \n",
    "        new_file = path+\"/triplets/\"+file.split(\"/\")[-1]\n",
    "        with open(new_file,\"w\") as f:\n",
    "            f.write(json.dumps(data))"
   ]
  },
  {
   "cell_type": "code",
   "execution_count": 70,
   "id": "1917cb01-fb25-42a4-a0e0-370719bb2065",
   "metadata": {},
   "outputs": [
    {
     "data": {
      "text/plain": [
       "75"
      ]
     },
     "execution_count": 70,
     "metadata": {},
     "output_type": "execute_result"
    }
   ],
   "source": [
    "len(data)"
   ]
  },
  {
   "cell_type": "code",
   "execution_count": null,
   "id": "630bbbe9-22e1-4f2d-a6ff-39a01748ee56",
   "metadata": {},
   "outputs": [],
   "source": []
  }
 ],
 "metadata": {
  "kernelspec": {
   "display_name": "spacey_pipeline",
   "language": "python",
   "name": "spacey_pipeline"
  },
  "language_info": {
   "codemirror_mode": {
    "name": "ipython",
    "version": 3
   },
   "file_extension": ".py",
   "mimetype": "text/x-python",
   "name": "python",
   "nbconvert_exporter": "python",
   "pygments_lexer": "ipython3",
   "version": "3.9.18"
  }
 },
 "nbformat": 4,
 "nbformat_minor": 5
}
